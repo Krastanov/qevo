{
 "cells": [
  {
   "cell_type": "code",
   "execution_count": 1,
   "metadata": {},
   "outputs": [
    {
     "data": {
      "text/plain": [
       "2-element Array{Int64,1}:\n",
       " 2\n",
       " 3"
      ]
     },
     "execution_count": 1,
     "metadata": {},
     "output_type": "execute_result"
    }
   ],
   "source": [
    "addprocs(2)"
   ]
  },
  {
   "cell_type": "code",
   "execution_count": 2,
   "metadata": {},
   "outputs": [
    {
     "data": {
      "text/plain": [
       "3-element Array{Any,1}:\n",
       " \"/home/stefan/looseends/julia-903644385b/local/share/julia/site/v0.6\"\n",
       " \"/home/stefan/looseends/julia-903644385b/share/julia/site/v0.6\"      \n",
       " \"\"                                                                   "
      ]
     },
     "execution_count": 2,
     "metadata": {},
     "output_type": "execute_result"
    }
   ],
   "source": [
    "thisDir = dirname(@__FILE__())\n",
    "any(path -> path == thisDir, LOAD_PATH) || push!(LOAD_PATH, thisDir)"
   ]
  },
  {
   "cell_type": "code",
   "execution_count": 3,
   "metadata": {
    "collapsed": true
   },
   "outputs": [],
   "source": [
    "using CliffordOperators: PauliOperator, d_bellstatestabs, expand_2toN, CliffordOperator, clifford_group, ⊗"
   ]
  },
  {
   "cell_type": "code",
   "execution_count": 4,
   "metadata": {
    "collapsed": true
   },
   "outputs": [],
   "source": [
    "@everywhere using CliffordOperators: PauliOperator, d_bellstatestabs, expand_2toN, CliffordOperator, clifford_group, ⊗"
   ]
  },
  {
   "cell_type": "code",
   "execution_count": 5,
   "metadata": {
    "collapsed": true
   },
   "outputs": [],
   "source": [
    "using IterTools\n",
    "\n",
    "bellpair_basis = collect(values(d_bellstatestabs))\n",
    "pair1 = [[expand_2toN(4,1,3,op) for op in s] for s in bellpair_basis]\n",
    "pair2 = [[expand_2toN(4,2,4,op) for op in s] for s in bellpair_basis]\n",
    "twopairs_basis_set = Set([Set([p1 ; p2]) for (p1, p2) in product(pair1,pair2)]);\n",
    "\n",
    "C = collect(clifford_group(2));"
   ]
  },
  {
   "cell_type": "code",
   "execution_count": 11,
   "metadata": {
    "collapsed": true
   },
   "outputs": [],
   "source": [
    "@everywhere function preserves(op::CliffordOperator)\n",
    "    global twopairs_basis_set\n",
    "    (map(s->map(p->op*p, s),\n",
    "         twopairs_basis_set)\n",
    "     ==twopairs_basis_set)\n",
    "end"
   ]
  },
  {
   "cell_type": "code",
   "execution_count": 6,
   "metadata": {
    "collapsed": true
   },
   "outputs": [],
   "source": [
    "@everywhere preserves(op::CliffordOperator) = (\n",
    "    global twopairs_basis_set;\n",
    "    map(s->map(p->op*p, s),\n",
    "        twopairs_basis_set)\n",
    "    ==twopairs_basis_set)"
   ]
  },
  {
   "cell_type": "code",
   "execution_count": 7,
   "metadata": {},
   "outputs": [
    {
     "data": {
      "text/plain": [
       "+ZIII → +XXXX\n",
       "+IZII → +XXXX\n",
       "+IIZI → +XXXX\n",
       "+IIIZ → +XXXX\n",
       "+XIII → +ZXXX\n",
       "+IXII → +ZXXX\n",
       "+IIXI → +ZXXX\n",
       "+IIIX → +ZXXX\n"
      ]
     },
     "execution_count": 7,
     "metadata": {},
     "output_type": "execute_result"
    }
   ],
   "source": [
    "blah = CliffordOperator([PauliOperator(\"XXXX\") for i in 1:4],[PauliOperator(\"ZXXX\") for i in 1:4])"
   ]
  },
  {
   "cell_type": "code",
   "execution_count": 9,
   "metadata": {},
   "outputs": [
    {
     "name": "stdout",
     "output_type": "stream",
     "text": [
      "                          Base               Module\n",
      "                             C   1352 KB     11520-element Array{CliffordOperat…\n",
      "             CliffordOperators  20978 KB     Module\n",
      "                 Combinatorics  21073 KB     Module\n",
      "                        Compat  21022 KB     Module\n",
      "                          Core               Module\n",
      "                        IJulia  21269 KB     Module\n",
      "                     IterTools  21050 KB     Module\n",
      "                          JSON  21089 KB     Module\n",
      "                          Main               Module\n",
      "                       MbedTLS  21115 KB     Module\n",
      "                   Polynomials     76 KB     Module\n",
      "                           ZMQ  21069 KB     Module\n",
      "                bellpair_basis    352 bytes  4-element Array{Tuple{CliffordOper…\n",
      "                          blah    464 bytes  CliffordOperators.CliffordOperator\n",
      "                         pair1    480 bytes  4-element Array{Array{CliffordOper…\n",
      "                         pair2    480 bytes  4-element Array{Array{CliffordOper…\n",
      "                     preserves      0 bytes  #preserves\n",
      "                       thisDir      8 bytes  String\n",
      "            twopairs_basis_set   4872 bytes  Set{Set{CliffordOperators.PauliOpe…\n"
     ]
    }
   ],
   "source": [
    "whos()"
   ]
  },
  {
   "cell_type": "code",
   "execution_count": 13,
   "metadata": {},
   "outputs": [
    {
     "data": {
      "text/plain": [
       "Future(2, 1, 17, Nullable{Any}())"
      ]
     },
     "execution_count": 13,
     "metadata": {},
     "output_type": "execute_result"
    },
    {
     "name": "stdout",
     "output_type": "stream",
     "text": [
      "\tFrom worker 2:\t                          Base               Module\n",
      "\tFrom worker 2:\t             CliffordOperators  18711 KB     Module\n",
      "\tFrom worker 2:\t                 Combinatorics    107 KB     Module\n",
      "\tFrom worker 2:\t                        Compat     45 KB     Module\n",
      "\tFrom worker 2:\t                          Core               Module\n",
      "\tFrom worker 2:\t                     IterTools     55 KB     Module\n",
      "\tFrom worker 2:\t                          Main               Module\n",
      "\tFrom worker 2:\t                   Polynomials     76 KB     Module\n",
      "\tFrom worker 2:\t                          blah    464 bytes  CliffordOperators.CliffordOperator\n",
      "\tFrom worker 2:\t                     preserves      0 bytes  #preserves\n"
     ]
    }
   ],
   "source": [
    "@spawnat 2 whos()"
   ]
  },
  {
   "cell_type": "code",
   "execution_count": 12,
   "metadata": {},
   "outputs": [
    {
     "ename": "LoadError",
     "evalue": "\u001b[91mOn worker 3:\n\u001b[91mUndefVarError: twopairs_basis_set not defined\u001b[39m\npreserves at ./In[11]:3\n#41 at ./distributed/macros.jl:20\n#103 at ./distributed/process_messages.jl:264 [inlined]\nrun_work_thunk at ./distributed/process_messages.jl:56\nrun_work_thunk at ./distributed/process_messages.jl:65 [inlined]\n#96 at ./event.jl:73\u001b[39m",
     "output_type": "error",
     "traceback": [
      "\u001b[91mOn worker 3:\n\u001b[91mUndefVarError: twopairs_basis_set not defined\u001b[39m\npreserves at ./In[11]:3\n#41 at ./distributed/macros.jl:20\n#103 at ./distributed/process_messages.jl:264 [inlined]\nrun_work_thunk at ./distributed/process_messages.jl:56\nrun_work_thunk at ./distributed/process_messages.jl:65 [inlined]\n#96 at ./event.jl:73\u001b[39m",
      "",
      "Stacktrace:",
      " [1] \u001b[1m#remotecall_fetch#141\u001b[22m\u001b[22m\u001b[1m(\u001b[22m\u001b[22m::Array{Any,1}, ::Function, ::Function, ::Base.Distributed.Worker, ::Base.Distributed.RRID, ::Vararg{Any,N} where N\u001b[1m)\u001b[22m\u001b[22m at \u001b[1m./distributed/remotecall.jl:354\u001b[22m\u001b[22m",
      " [2] \u001b[1mremotecall_fetch\u001b[22m\u001b[22m\u001b[1m(\u001b[22m\u001b[22m::Function, ::Base.Distributed.Worker, ::Base.Distributed.RRID, ::Vararg{Any,N} where N\u001b[1m)\u001b[22m\u001b[22m at \u001b[1m./distributed/remotecall.jl:346\u001b[22m\u001b[22m",
      " [3] \u001b[1m#remotecall_fetch#144\u001b[22m\u001b[22m\u001b[1m(\u001b[22m\u001b[22m::Array{Any,1}, ::Function, ::Function, ::Int64, ::Base.Distributed.RRID, ::Vararg{Any,N} where N\u001b[1m)\u001b[22m\u001b[22m at \u001b[1m./distributed/remotecall.jl:367\u001b[22m\u001b[22m",
      " [4] \u001b[1mremotecall_fetch\u001b[22m\u001b[22m\u001b[1m(\u001b[22m\u001b[22m::Function, ::Int64, ::Base.Distributed.RRID, ::Vararg{Any,N} where N\u001b[1m)\u001b[22m\u001b[22m at \u001b[1m./distributed/remotecall.jl:367\u001b[22m\u001b[22m",
      " [5] \u001b[1mcall_on_owner\u001b[22m\u001b[22m\u001b[1m(\u001b[22m\u001b[22m::Function, ::Future, ::Int64, ::Vararg{Int64,N} where N\u001b[1m)\u001b[22m\u001b[22m at \u001b[1m./distributed/remotecall.jl:440\u001b[22m\u001b[22m",
      " [6] \u001b[1mfetch\u001b[22m\u001b[22m\u001b[1m(\u001b[22m\u001b[22m::Future\u001b[1m)\u001b[22m\u001b[22m at \u001b[1m./distributed/remotecall.jl:466\u001b[22m\u001b[22m",
      " [7] \u001b[1minclude_string\u001b[22m\u001b[22m\u001b[1m(\u001b[22m\u001b[22m::String, ::String\u001b[1m)\u001b[22m\u001b[22m at \u001b[1m./loading.jl:515\u001b[22m\u001b[22m"
     ]
    }
   ],
   "source": [
    "fetch(@spawn preserves(blah))"
   ]
  },
  {
   "cell_type": "code",
   "execution_count": 16,
   "metadata": {
    "collapsed": true,
    "scrolled": true
   },
   "outputs": [],
   "source": [
    "inds = collect(1:length(C))\n",
    "len = length(inds)\n",
    "bell_diagonal_op = SharedArray{Int,1}((len^2,));"
   ]
  },
  {
   "cell_type": "code",
   "execution_count": 27,
   "metadata": {
    "collapsed": true
   },
   "outputs": [],
   "source": [
    "using ProgressMeter"
   ]
  },
  {
   "cell_type": "code",
   "execution_count": 28,
   "metadata": {},
   "outputs": [
    {
     "name": "stderr",
     "output_type": "stream",
     "text": [
      "Progress:   0%  ETA: 6:18:01"
     ]
    },
    {
     "ename": "LoadError",
     "evalue": "\u001b[91mInterruptException:\u001b[39m",
     "output_type": "error",
     "traceback": [
      "\u001b[91mInterruptException:\u001b[39m",
      "",
      "Stacktrace:",
      " [1] \u001b[1msyms_2b_sent\u001b[22m\u001b[22m\u001b[1m(\u001b[22m\u001b[22m::Base.Distributed.ClusterSerializer{TCPSocket}, ::UInt64\u001b[1m)\u001b[22m\u001b[22m at \u001b[1m./distributed/clusterserialize.jl:116\u001b[22m\u001b[22m",
      " [2] \u001b[1mserialize\u001b[22m\u001b[22m\u001b[1m(\u001b[22m\u001b[22m::Base.Distributed.ClusterSerializer{TCPSocket}, ::TypeName\u001b[1m)\u001b[22m\u001b[22m at \u001b[1m./distributed/clusterserialize.jl:81\u001b[22m\u001b[22m",
      " [3] \u001b[1mserialize_type_data\u001b[22m\u001b[22m\u001b[1m(\u001b[22m\u001b[22m::Base.Distributed.ClusterSerializer{TCPSocket}, ::DataType\u001b[1m)\u001b[22m\u001b[22m at \u001b[1m./serialize.jl:511\u001b[22m\u001b[22m",
      " [4] \u001b[1mserialize\u001b[22m\u001b[22m\u001b[1m(\u001b[22m\u001b[22m::Base.Distributed.ClusterSerializer{TCPSocket}, ::DataType\u001b[1m)\u001b[22m\u001b[22m at \u001b[1m./serialize.jl:547\u001b[22m\u001b[22m",
      " [5] \u001b[1mserialize_type_data\u001b[22m\u001b[22m\u001b[1m(\u001b[22m\u001b[22m::Base.Distributed.ClusterSerializer{TCPSocket}, ::DataType\u001b[1m)\u001b[22m\u001b[22m at \u001b[1m./serialize.jl:531\u001b[22m\u001b[22m",
      " [6] \u001b[1mserialize_type\u001b[22m\u001b[22m\u001b[1m(\u001b[22m\u001b[22m::Base.Distributed.ClusterSerializer{TCPSocket}, ::DataType, ::Bool\u001b[1m)\u001b[22m\u001b[22m at \u001b[1m./serialize.jl:554\u001b[22m\u001b[22m",
      " [7] \u001b[1mserialize_any\u001b[22m\u001b[22m\u001b[1m(\u001b[22m\u001b[22m::Base.Distributed.ClusterSerializer{TCPSocket}, ::Any\u001b[1m)\u001b[22m\u001b[22m at \u001b[1m./serialize.jl:615\u001b[22m\u001b[22m",
      " [8] \u001b[1mserialize_msg\u001b[22m\u001b[22m\u001b[1m(\u001b[22m\u001b[22m::Base.Distributed.ClusterSerializer{TCPSocket}, ::Base.Distributed.CallMsg{:call}\u001b[1m)\u001b[22m\u001b[22m at \u001b[1m./distributed/messages.jl:89\u001b[22m\u001b[22m",
      " [9] \u001b[1msend_msg_\u001b[22m\u001b[22m\u001b[1m(\u001b[22m\u001b[22m::Base.Distributed.Worker, ::Base.Distributed.MsgHeader, ::Base.Distributed.CallMsg{:call}, ::Bool\u001b[1m)\u001b[22m\u001b[22m at \u001b[1m./distributed/messages.jl:181\u001b[22m\u001b[22m",
      " [10] \u001b[1m#remotecall#138\u001b[22m\u001b[22m at \u001b[1m./distributed/remotecall.jl:325\u001b[22m\u001b[22m [inlined]",
      " [11] \u001b[1mremotecall\u001b[22m\u001b[22m\u001b[1m(\u001b[22m\u001b[22m::Function, ::Base.Distributed.Worker\u001b[1m)\u001b[22m\u001b[22m at \u001b[1m./distributed/remotecall.jl:324\u001b[22m\u001b[22m",
      " [12] \u001b[1m#remotecall#139\u001b[22m\u001b[22m\u001b[1m(\u001b[22m\u001b[22m::Array{Any,1}, ::Function, ::Function, ::Int64\u001b[1m)\u001b[22m\u001b[22m at \u001b[1m./distributed/remotecall.jl:336\u001b[22m\u001b[22m",
      " [13] \u001b[1mremotecall\u001b[22m\u001b[22m\u001b[1m(\u001b[22m\u001b[22m::Function, ::Int64\u001b[1m)\u001b[22m\u001b[22m at \u001b[1m./distributed/remotecall.jl:336\u001b[22m\u001b[22m",
      " [14] \u001b[1mcollect\u001b[22m\u001b[22m\u001b[1m(\u001b[22m\u001b[22m::Base.Generator{Array{UnitRange{Int64},1},Base.Distributed.##157#159{##81#82,Array{Int64,1}}}\u001b[1m)\u001b[22m\u001b[22m at \u001b[1m./array.jl:441\u001b[22m\u001b[22m",
      " [15] \u001b[1mpfor\u001b[22m\u001b[22m\u001b[1m(\u001b[22m\u001b[22m::##81#82, ::Array{Int64,1}\u001b[1m)\u001b[22m\u001b[22m at \u001b[1m./distributed/macros.jl:152\u001b[22m\u001b[22m",
      " [16] \u001b[1mmacro expansion\u001b[22m\u001b[22m at \u001b[1m./task.jl:302\u001b[22m\u001b[22m [inlined]",
      " [17] \u001b[1mmacro expansion\u001b[22m\u001b[22m at \u001b[1m./In[28]:2\u001b[22m\u001b[22m [inlined]",
      " [18] \u001b[1mmacro expansion\u001b[22m\u001b[22m at \u001b[1m/home/stefan/.julia/v0.6/ProgressMeter/src/ProgressMeter.jl:474\u001b[22m\u001b[22m [inlined]",
      " [19] \u001b[1manonymous\u001b[22m\u001b[22m at \u001b[1m./<missing>:?\u001b[22m\u001b[22m",
      " [20] \u001b[1minclude_string\u001b[22m\u001b[22m\u001b[1m(\u001b[22m\u001b[22m::String, ::String\u001b[1m)\u001b[22m\u001b[22m at \u001b[1m./loading.jl:515\u001b[22m\u001b[22m"
     ]
    }
   ],
   "source": [
    "@showprogress 1 for i in inds\n",
    "    @sync @parallel for j in inds\n",
    "        op = C[i] ⊗ C[j]\n",
    "        if preserves(op)\n",
    "            bell_diagonal_op[i*len+j]=1\n",
    "        end\n",
    "        mylast = i,j\n",
    "    end\n",
    "end"
   ]
  },
  {
   "cell_type": "code",
   "execution_count": 75,
   "metadata": {},
   "outputs": [
    {
     "data": {
      "text/html": [
       "128"
      ],
      "text/plain": [
       "128"
      ]
     },
     "execution_count": 75,
     "metadata": {},
     "output_type": "execute_result"
    }
   ],
   "source": [
    "length(bell_diagonal_op)"
   ]
  },
  {
   "cell_type": "code",
   "execution_count": 76,
   "metadata": {},
   "outputs": [
    {
     "data": {
      "text/html": [
       "90.0"
      ],
      "text/plain": [
       "90.0"
      ]
     },
     "execution_count": 76,
     "metadata": {},
     "output_type": "execute_result"
    }
   ],
   "source": [
    "11520/128"
   ]
  },
  {
   "cell_type": "code",
   "execution_count": 24,
   "metadata": {
    "collapsed": true
   },
   "outputs": [],
   "source": [
    "#f = open(\"julia-subgroup.jls\", \"w\")\n",
    "#serialize(f, bell_diagonal_op)\n",
    "#close(f)"
   ]
  },
  {
   "cell_type": "code",
   "execution_count": 72,
   "metadata": {
    "collapsed": true
   },
   "outputs": [],
   "source": [
    "f = open(\"julia-subgroup.jls\", \"r\")\n",
    "bell_diagonal_op_ = deserialize(f)\n",
    "close(f)"
   ]
  },
  {
   "cell_type": "code",
   "execution_count": 74,
   "metadata": {},
   "outputs": [
    {
     "data": {
      "text/plain": [
       "128-element Array{CliffordOperator,1}:\n",
       " +ZIII → +ZIII\n",
       "+IZII → +IZII\n",
       "+IIZI → +IIZI\n",
       "+IIIZ → +IIIZ\n",
       "+XIII → +XIII\n",
       "+IXII → +IXII\n",
       "+IIXI → +IIXI\n",
       "+IIIX → +IIIX\n",
       "\n",
       " +ZIII → +IZII\n",
       "+IZII → +ZIII\n",
       "+IIZI → +IIIZ\n",
       "+IIIZ → +IIZI\n",
       "+XIII → +IXII\n",
       "+IXII → +XIII\n",
       "+IIXI → +IIIX\n",
       "+IIIX → +IIXI\n",
       "\n",
       " +ZIII → +ZIII\n",
       "+IZII → -IXII\n",
       "+IIZI → +IIZI\n",
       "+IIIZ → +IIIX\n",
       "+XIII → +XIII\n",
       "+IXII → -IZII\n",
       "+IIXI → +IIXI\n",
       "+IIIX → +IIIZ\n",
       "\n",
       " +ZIII → -IXII\n",
       "+IZII → +ZIII\n",
       "+IIZI → +IIIX\n",
       "+IIIZ → +IIZI\n",
       "+XIII → -IZII\n",
       "+IXII → +XIII\n",
       "+IIXI → +IIIZ\n",
       "+IIIX → +IIXI\n",
       "\n",
       " +ZIII → -XIII\n",
       "+IZII → +IZII\n",
       "+IIZI → +IIXI\n",
       "+IIIZ → +IIIZ\n",
       "+XIII → -ZIII\n",
       "+IXII → +IXII\n",
       "+IIXI → +IIZI\n",
       "+IIIX → +IIIX\n",
       "\n",
       " +ZIII → +IZII\n",
       "+IZII → -XIII\n",
       "+IIZI → +IIIZ\n",
       "+IIIZ → +IIXI\n",
       "+XIII → +IXII\n",
       "+IXII → -ZIII\n",
       "+IIXI → +IIIX\n",
       "+IIIX → +IIZI\n",
       "\n",
       " +ZIII → -XIII\n",
       "+IZII → -IXII\n",
       "+IIZI → +IIXI\n",
       "+IIIZ → +IIIX\n",
       "+XIII → -ZIII\n",
       "+IXII → -IZII\n",
       "+IIXI → +IIZI\n",
       "+IIIX → +IIIZ\n",
       "\n",
       " +ZIII → -IXII\n",
       "+IZII → -XIII\n",
       "+IIZI → +IIIX\n",
       "+IIIZ → +IIXI\n",
       "+XIII → -IZII\n",
       "+IXII → -ZIII\n",
       "+IIXI → +IIIZ\n",
       "+IIIX → +IIZI\n",
       "\n",
       " +ZIII → -ZIII\n",
       "+IZII → +IZII\n",
       "+IIZI → -IIZI\n",
       "+IIIZ → +IIIZ\n",
       "+XIII → +XIII\n",
       "+IXII → +IXII\n",
       "+IIXI → +IIXI\n",
       "+IIIX → +IIIX\n",
       "\n",
       " +ZIII → -IZII\n",
       "+IZII → +ZIII\n",
       "+IIZI → -IIIZ\n",
       "+IIIZ → +IIZI\n",
       "+XIII → +IXII\n",
       "+IXII → +XIII\n",
       "+IIXI → +IIIX\n",
       "+IIIX → +IIXI\n",
       "\n",
       " +ZIII → -ZIII\n",
       "+IZII → -IXII\n",
       "+IIZI → -IIZI\n",
       "+IIIZ → +IIIX\n",
       "+XIII → +XIII\n",
       "+IXII → -IZII\n",
       "+IIXI → +IIXI\n",
       "+IIIX → +IIIZ\n",
       "\n",
       " +ZIII → +IXII\n",
       "+IZII → +ZIII\n",
       "+IIZI → -IIIX\n",
       "+IIIZ → +IIZI\n",
       "+XIII → -IZII\n",
       "+IXII → +XIII\n",
       "+IIXI → +IIIZ\n",
       "+IIIX → +IIXI\n",
       "\n",
       " +ZIII → +XIII\n",
       "+IZII → +IZII\n",
       "+IIZI → -IIXI\n",
       "+IIIZ → +IIIZ\n",
       "+XIII → -ZIII\n",
       "+IXII → +IXII\n",
       "+IIXI → +IIZI\n",
       "+IIIX → +IIIX\n",
       "\n",
       " ⋮                                                                                                               \n",
       " +ZIII → -XIII\n",
       "+IZII → -IZII\n",
       "+IIZI → +IIXI\n",
       "+IIIZ → -IIIZ\n",
       "+XIII → +ZIII\n",
       "+IXII → -IXII\n",
       "+IIXI → -IIZI\n",
       "+IIIX → -IIIX\n",
       "\n",
       " +ZIII → +IZII\n",
       "+IZII → +XIII\n",
       "+IIZI → +IIIZ\n",
       "+IIIZ → -IIXI\n",
       "+XIII → -IXII\n",
       "+IXII → +ZIII\n",
       "+IIXI → -IIIX\n",
       "+IIIX → -IIZI\n",
       "\n",
       " +ZIII → -XIII\n",
       "+IZII → +IXII\n",
       "+IIZI → +IIXI\n",
       "+IIIZ → -IIIX\n",
       "+XIII → +ZIII\n",
       "+IXII → +IZII\n",
       "+IIXI → -IIZI\n",
       "+IIIX → -IIIZ\n",
       "\n",
       " +ZIII → -IXII\n",
       "+IZII → +XIII\n",
       "+IIZI → +IIIX\n",
       "+IIIZ → -IIXI\n",
       "+XIII → +IZII\n",
       "+IXII → +ZIII\n",
       "+IIXI → -IIIZ\n",
       "+IIIX → -IIZI\n",
       "\n",
       " +ZIII → -ZIII\n",
       "+IZII → -IZII\n",
       "+IIZI → -IIZI\n",
       "+IIIZ → -IIIZ\n",
       "+XIII → -XIII\n",
       "+IXII → -IXII\n",
       "+IIXI → -IIXI\n",
       "+IIIX → -IIIX\n",
       "\n",
       " +ZIII → -IZII\n",
       "+IZII → -ZIII\n",
       "+IIZI → -IIIZ\n",
       "+IIIZ → -IIZI\n",
       "+XIII → -IXII\n",
       "+IXII → -XIII\n",
       "+IIXI → -IIIX\n",
       "+IIIX → -IIXI\n",
       "\n",
       " +ZIII → -ZIII\n",
       "+IZII → +IXII\n",
       "+IIZI → -IIZI\n",
       "+IIIZ → -IIIX\n",
       "+XIII → -XIII\n",
       "+IXII → +IZII\n",
       "+IIXI → -IIXI\n",
       "+IIIX → -IIIZ\n",
       "\n",
       " +ZIII → +IXII\n",
       "+IZII → -ZIII\n",
       "+IIZI → -IIIX\n",
       "+IIIZ → -IIZI\n",
       "+XIII → +IZII\n",
       "+IXII → -XIII\n",
       "+IIXI → -IIIZ\n",
       "+IIIX → -IIXI\n",
       "\n",
       " +ZIII → +XIII\n",
       "+IZII → -IZII\n",
       "+IIZI → -IIXI\n",
       "+IIIZ → -IIIZ\n",
       "+XIII → +ZIII\n",
       "+IXII → -IXII\n",
       "+IIXI → -IIZI\n",
       "+IIIX → -IIIX\n",
       "\n",
       " +ZIII → -IZII\n",
       "+IZII → +XIII\n",
       "+IIZI → -IIIZ\n",
       "+IIIZ → -IIXI\n",
       "+XIII → -IXII\n",
       "+IXII → +ZIII\n",
       "+IIXI → -IIIX\n",
       "+IIIX → -IIZI\n",
       "\n",
       " +ZIII → +XIII\n",
       "+IZII → +IXII\n",
       "+IIZI → -IIXI\n",
       "+IIIZ → -IIIX\n",
       "+XIII → +ZIII\n",
       "+IXII → +IZII\n",
       "+IIXI → -IIZI\n",
       "+IIIX → -IIIZ\n",
       "\n",
       " +ZIII → +IXII\n",
       "+IZII → +XIII\n",
       "+IIZI → -IIIX\n",
       "+IIIZ → -IIXI\n",
       "+XIII → +IZII\n",
       "+IXII → +ZIII\n",
       "+IIXI → -IIIZ\n",
       "+IIIX → -IIZI\n"
      ]
     },
     "execution_count": 74,
     "metadata": {},
     "output_type": "execute_result"
    }
   ],
   "source": [
    "bell_diagonal_op"
   ]
  }
 ],
 "metadata": {
  "hide_input": false,
  "kernelspec": {
   "display_name": "Julia 0.6.0",
   "language": "julia",
   "name": "julia-0.6"
  },
  "language_info": {
   "file_extension": ".jl",
   "mimetype": "application/julia",
   "name": "julia",
   "version": "0.6.0"
  },
  "toc": {
   "colors": {
    "hover_highlight": "#DAA520",
    "running_highlight": "#FF0000",
    "selected_highlight": "#FFD700"
   },
   "moveMenuLeft": true,
   "nav_menu": {
    "height": "12px",
    "width": "252px"
   },
   "navigate_menu": true,
   "number_sections": true,
   "sideBar": true,
   "threshold": 4,
   "toc_cell": false,
   "toc_section_display": "block",
   "toc_window_display": false,
   "widenNotebook": false
  }
 },
 "nbformat": 4,
 "nbformat_minor": 2
}
