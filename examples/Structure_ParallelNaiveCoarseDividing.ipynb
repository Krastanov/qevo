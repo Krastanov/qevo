{
 "cells": [
  {
   "cell_type": "code",
   "execution_count": 1,
   "metadata": {},
   "outputs": [
    {
     "data": {
      "text/plain": [
       "4-element Array{Int64,1}:\n",
       " 2\n",
       " 3\n",
       " 4\n",
       " 5"
      ]
     },
     "execution_count": 1,
     "metadata": {},
     "output_type": "execute_result"
    }
   ],
   "source": [
    "ids = addprocs(4) # currently works only with a square number of processes"
   ]
  },
  {
   "cell_type": "code",
   "execution_count": 2,
   "metadata": {},
   "outputs": [
    {
     "data": {
      "text/plain": [
       "3-element Array{Any,1}:\n",
       " \"/home/stefan/looseends/julia-903644385b/local/share/julia/site/v0.6\"\n",
       " \"/home/stefan/looseends/julia-903644385b/share/julia/site/v0.6\"      \n",
       " \"/home/stefan/python_lab35/resource_overhead/qevo_3\"                 "
      ]
     },
     "execution_count": 2,
     "metadata": {},
     "output_type": "execute_result"
    }
   ],
   "source": [
    "push!(LOAD_PATH, pwd())"
   ]
  },
  {
   "cell_type": "code",
   "execution_count": 3,
   "metadata": {},
   "outputs": [
    {
     "data": {
      "text/plain": [
       "Clifford"
      ]
     },
     "execution_count": 3,
     "metadata": {},
     "output_type": "execute_result"
    }
   ],
   "source": [
    "include(\"Clifford.jl\")"
   ]
  },
  {
   "cell_type": "code",
   "execution_count": 4,
   "metadata": {
    "collapsed": true,
    "scrolled": true
   },
   "outputs": [],
   "source": [
    "@everywhere using Clifford"
   ]
  },
  {
   "cell_type": "code",
   "execution_count": 5,
   "metadata": {
    "collapsed": true
   },
   "outputs": [],
   "source": [
    "@everywhere using IterTools\n",
    "@everywhere using Combinatorics"
   ]
  },
  {
   "cell_type": "code",
   "execution_count": 50,
   "metadata": {},
   "outputs": [],
   "source": [
    "@everywhere begin\n",
    "d_bellstatestabs = Dict(:A=>(p\"+XX\",p\"+ZZ\"),\n",
    "                        :B=>(p\"-XX\",p\"-ZZ\"),\n",
    "                        :C=>(p\"+XX\",p\"-ZZ\"),\n",
    "                        :D=>(p\"-XX\",p\"+ZZ\"))\n",
    "\n",
    "function bellstate_stabilizers(state::Symbol)\n",
    "    d_bellstatestabs[state]\n",
    "end\n",
    "\n",
    "bellpair_basis = collect(values(d_bellstatestabs))\n",
    "pair1 = [[expand_2toN(4,1,3,op) for op in s] for s in bellpair_basis]\n",
    "pair1_complete = [[a, b, a*b] for (a,b) in pair1]\n",
    "pair2 = [[expand_2toN(4,2,4,op) for op in s] for s in bellpair_basis]\n",
    "pair2_complete = [[a, b, a*b] for (a,b) in pair2]\n",
    "twopairs_basis = [[p1 ; p2] for (p1, p2) in product(pair1,pair2)]\n",
    "twopairs_basis_complete = [[p1 ; p2] for (p1, p2) in product(pair1_complete,pair2_complete)]\n",
    "twopairs_basis_set = Set(Set(_) for _ in twopairs_basis);\n",
    "twopairs_basis_set_complete = Set(Set(_) for _ in twopairs_basis_complete);\n",
    "\n",
    "preserves(op::CliffordOperator) = (map(s->map(p->op*p,\n",
    "                                              s),\n",
    "                                       twopairs_basis_set)\n",
    "                                   ==twopairs_basis_set)\n",
    "\n",
    "twopairs_basis_set_hashesums = sort([sum([hash(s) for s in stabs]) \n",
    "                                     for stabs in twopairs_basis_set])\n",
    "\n",
    "#function preserves_hashsum(op::CliffordOperator)\n",
    "#    result_hashsums = Array{UInt64,1}(16)\n",
    "#    for i in 1:16\n",
    "#        result_hashsums[i] = (hash(op*twopairs_basis[i][1])\n",
    "#                             +hash(op*twopairs_basis[i][2])\n",
    "#                             +hash(op*twopairs_basis[i][3])\n",
    "#                             +hash(op*twopairs_basis[i][4]))\n",
    "#    end\n",
    "#    sort!(result_hashsums)\n",
    "#    return result_hashsums==twopairs_basis_set_hashesums\n",
    "#end\n",
    "\n",
    "function preserves_hashsum(op::CliffordOperator)\n",
    "    result_hashsums = Array{UInt64,1}(16)\n",
    "    ptemp = p\"IIII\"\n",
    "    for i in 1:16\n",
    "        begin\n",
    "            result_hashsums[i] = 0\n",
    "            for j in 1:4\n",
    "                mul!(op, twopairs_basis[i][j], ptemp)\n",
    "                result_hashsums[i] += hash(ptemp)    \n",
    "            end\n",
    "        end\n",
    "    end\n",
    "    sort!(result_hashsums)\n",
    "    return result_hashsums==twopairs_basis_set_hashesums\n",
    "end\n",
    "\n",
    "c_id = reduce(⊗, [CliffordOperator([p\"Z\"], [p\"X\"]) for i in 1:4])\n",
    "\n",
    "end"
   ]
  },
  {
   "cell_type": "code",
   "execution_count": 9,
   "metadata": {
    "collapsed": true
   },
   "outputs": [],
   "source": [
    "@everywhere begin\n",
    "C = collect(clifford_group(2))\n",
    "function get_sub_iterator(i, n)\n",
    "    l = isqrt(n)\n",
    "    @assert l^2==n\n",
    "    j, k = divrem(i-1,l)\n",
    "    len = div(length(C),l)\n",
    "    if j==l-1 && k==l-1\n",
    "        product(C[j*len+1:end],C[k*len+1:end])\n",
    "    elseif j==l-1\n",
    "        product(C[j*len+1:end],C[k*len+1:(k+1)*len])\n",
    "    elseif k==l-1\n",
    "        product(C[j*len+1:(j+1)*len],C[k*len+1:end])\n",
    "    else\n",
    "        product(C[j*len+1:(j+1)*len],C[k*len+1:(k+1)*len])\n",
    "    end\n",
    "end\n",
    "\n",
    "function work(p,n,report_array)\n",
    "    report_array[p] = 0\n",
    "    bell_diagonal_op = Array{CliffordOperator, 1}()\n",
    "    for (o1,o2) in get_sub_iterator(p,n)\n",
    "        op = o1 ⊗ o2\n",
    "        if preserves_hashsum(op) && preserves(op)\n",
    "            push!(bell_diagonal_op, op)\n",
    "        end\n",
    "        report_array[p] += 1\n",
    "    end\n",
    "    bell_diagonal_op\n",
    "end\n",
    "\n",
    "end"
   ]
  },
  {
   "cell_type": "code",
   "execution_count": 42,
   "metadata": {
    "collapsed": true
   },
   "outputs": [],
   "source": [
    "n = length(workers())\n",
    "results = Array{Any, 1}(n)\n",
    "report_array = SharedArray{Int}(n)\n",
    "for (i,p) in enumerate(workers())\n",
    "    @async begin results[i] = remotecall_fetch(work, p, i, n, report_array) end\n",
    "end"
   ]
  },
  {
   "cell_type": "code",
   "execution_count": 175,
   "metadata": {},
   "outputs": [
    {
     "data": {
      "text/html": [
       "0"
      ],
      "text/plain": [
       "0"
      ]
     },
     "execution_count": 175,
     "metadata": {},
     "output_type": "execute_result"
    }
   ],
   "source": [
    "sum(report_array) - length(product(C,C))"
   ]
  },
  {
   "cell_type": "code",
   "execution_count": 176,
   "metadata": {},
   "outputs": [
    {
     "data": {
      "text/html": [
       "2048"
      ],
      "text/plain": [
       "2048"
      ]
     },
     "execution_count": 176,
     "metadata": {},
     "output_type": "execute_result"
    }
   ],
   "source": [
    "sum(length(_) for _ in results)"
   ]
  },
  {
   "cell_type": "code",
   "execution_count": 177,
   "metadata": {},
   "outputs": [
    {
     "data": {
      "text/html": [
       "5.625"
      ],
      "text/plain": [
       "5.625"
      ]
     },
     "execution_count": 177,
     "metadata": {},
     "output_type": "execute_result"
    }
   ],
   "source": [
    "11520/2048"
   ]
  },
  {
   "cell_type": "code",
   "execution_count": null,
   "metadata": {
    "collapsed": true
   },
   "outputs": [],
   "source": []
  }
 ],
 "metadata": {
  "hide_input": false,
  "kernelspec": {
   "display_name": "Julia 0.6.0",
   "language": "julia",
   "name": "julia-0.6"
  },
  "language_info": {
   "file_extension": ".jl",
   "mimetype": "application/julia",
   "name": "julia",
   "version": "0.6.0"
  },
  "toc": {
   "colors": {
    "hover_highlight": "#DAA520",
    "running_highlight": "#FF0000",
    "selected_highlight": "#FFD700"
   },
   "moveMenuLeft": true,
   "nav_menu": {
    "height": "12px",
    "width": "252px"
   },
   "navigate_menu": true,
   "number_sections": true,
   "sideBar": true,
   "threshold": 4,
   "toc_cell": false,
   "toc_section_display": "block",
   "toc_window_display": false,
   "widenNotebook": false
  }
 },
 "nbformat": 4,
 "nbformat_minor": 2
}
