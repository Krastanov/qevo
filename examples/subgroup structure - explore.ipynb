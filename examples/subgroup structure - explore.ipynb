{
 "cells": [
  {
   "cell_type": "code",
   "execution_count": 1,
   "metadata": {
    "collapsed": true
   },
   "outputs": [],
   "source": [
    "import itertools\n",
    "from qevo import *\n",
    "import qutip\n",
    "import numpy as np\n",
    "from IPython.display import display\n",
    "from tqdm import tqdm\n",
    "from collections import Counter\n",
    "import matplotlib as mpl\n",
    "import matplotlib.pyplot as plt\n",
    "%matplotlib inline\n",
    "plt.ioff()"
   ]
  },
  {
   "cell_type": "code",
   "execution_count": 2,
   "metadata": {
    "collapsed": true
   },
   "outputs": [],
   "source": [
    "def c(*gate_ls):\n",
    "    l, *o = gate_ls\n",
    "    if o:\n",
    "        r, *o = o\n",
    "        lr = tuple(r[l[_]] for _ in range(16))\n",
    "        return c(lr,*o)\n",
    "    else:\n",
    "        return l\n",
    "def order(el):\n",
    "    el_c = el\n",
    "    o = 1\n",
    "    while el_c!=tuple(range(16)):\n",
    "        el_c = c(el_c,el)\n",
    "        o += 1\n",
    "    return o\n",
    "def permutation2_to_index_map(permutation2):\n",
    "    return [(_//4,_%4) for _ in permutation2]\n",
    "def permute2(probs, targets, permutation2_index, N):\n",
    "    slices_a = [slice(None)]*N\n",
    "    slices_b = [slice(None)]*N\n",
    "    t1, t2 = targets\n",
    "    new_probs = probs.copy()\n",
    "    for (l1, l2),(r1,r2) in zip(itertools.product(range(4), repeat=2),permutation2_index):\n",
    "        slices_a[t1] = l1\n",
    "        slices_a[t2] = l2\n",
    "        slices_b[t1] = r1\n",
    "        slices_b[t2] = r2\n",
    "        new_probs[tuple(slices_b)] = probs[tuple(slices_a)]\n",
    "    return new_probs\n",
    "def calc(ind, meas, qs=None):\n",
    "    f = 0.9\n",
    "    inf = 1-f\n",
    "    p2 = 0.99\n",
    "    probs = get_new_probs(2, f, qs)\n",
    "    probs_perm = probs\n",
    "    probs_perm = permute2(probs, [0,1], ind, 2)\n",
    "    probs_dep = depolarize2(probs_perm, [0,1], p2)\n",
    "    assert abs(np.sum(probs_dep)-1)<1e-9\n",
    "    return np.round(measure(probs_dep, 1, [0,meas], 2, f, p2), decimals=7) # rounded to permit hashing"
   ]
  },
  {
   "cell_type": "code",
   "execution_count": 3,
   "metadata": {
    "collapsed": true
   },
   "outputs": [],
   "source": [
    "import pickle\n",
    "with open('permutation_subgroup.pickle','rb') as _f:\n",
    "    generated = pickle.load(_f)"
   ]
  },
  {
   "cell_type": "code",
   "execution_count": 4,
   "metadata": {},
   "outputs": [
    {
     "data": {
      "text/plain": [
       "(9, 6, 14, 1, 3, 12, 4, 11, 10, 5, 13, 2, 0, 15, 7, 8)"
      ]
     },
     "execution_count": 4,
     "metadata": {},
     "output_type": "execute_result"
    }
   ],
   "source": [
    "generated[0]"
   ]
  },
  {
   "cell_type": "code",
   "execution_count": 4,
   "metadata": {},
   "outputs": [
    {
     "data": {
      "text/plain": [
       "11520"
      ]
     },
     "execution_count": 4,
     "metadata": {},
     "output_type": "execute_result"
    }
   ],
   "source": [
    "len(set(generated))"
   ]
  },
  {
   "cell_type": "code",
   "execution_count": 5,
   "metadata": {
    "collapsed": true
   },
   "outputs": [],
   "source": [
    "generated = [_ for _ in generated if _[0] in {0}] # {0,1,2,3}]"
   ]
  },
  {
   "cell_type": "code",
   "execution_count": 7,
   "metadata": {},
   "outputs": [
    {
     "data": {
      "text/plain": [
       "720"
      ]
     },
     "execution_count": 7,
     "metadata": {},
     "output_type": "execute_result"
    }
   ],
   "source": [
    "len(generated)"
   ]
  },
  {
   "cell_type": "code",
   "execution_count": 8,
   "metadata": {},
   "outputs": [
    {
     "data": {
      "text/plain": [
       "4.0"
      ]
     },
     "execution_count": 8,
     "metadata": {},
     "output_type": "execute_result"
    }
   ],
   "source": [
    "11520/2880"
   ]
  },
  {
   "cell_type": "code",
   "execution_count": 9,
   "metadata": {},
   "outputs": [
    {
     "data": {
      "text/plain": [
       "16.0"
      ]
     },
     "execution_count": 9,
     "metadata": {},
     "output_type": "execute_result"
    }
   ],
   "source": [
    "11520/720"
   ]
  },
  {
   "cell_type": "code",
   "execution_count": 10,
   "metadata": {
    "collapsed": true
   },
   "outputs": [],
   "source": [
    "orders = [order(_) for _ in generated]"
   ]
  },
  {
   "cell_type": "code",
   "execution_count": 11,
   "metadata": {},
   "outputs": [
    {
     "data": {
      "text/plain": [
       "Counter({1: 1, 2: 75, 3: 80, 4: 180, 5: 144, 6: 240})"
      ]
     },
     "execution_count": 11,
     "metadata": {},
     "output_type": "execute_result"
    }
   ],
   "source": [
    "Counter(orders)"
   ]
  },
  {
   "cell_type": "code",
   "execution_count": 12,
   "metadata": {},
   "outputs": [
    {
     "data": {
      "text/plain": [
       "Counter({(0.89164140000000003, 0.91659669999999982, 0.91659669999999982): 216,\n",
       "         (0.89287620000000012, 0.89287620000000012, 0.89287620000000012): 72,\n",
       "         (0.91659669999999982, 0.89164140000000003, 0.91659669999999982): 216,\n",
       "         (0.91659669999999982, 0.91659669999999982, 0.89164140000000003): 216})"
      ]
     },
     "execution_count": 12,
     "metadata": {},
     "output_type": "execute_result"
    }
   ],
   "source": [
    "index_maps = [permutation2_to_index_map(_) for _ in generated]\n",
    "fids = [tuple([fidelity(calc(ind, _)) for _ in [1,2,3]])\n",
    "        for ind in index_maps]\n",
    "Counter(fids)"
   ]
  },
  {
   "cell_type": "code",
   "execution_count": 13,
   "metadata": {},
   "outputs": [
    {
     "data": {
      "text/plain": [
       "Counter({(0.88896469999999994, 0.89121040000000007, 0.90253519999999987): 12,\n",
       "         (0.88896469999999994, 0.90253519999999987, 0.89121040000000007): 12,\n",
       "         (0.88927669999999992, 0.89166520000000005, 0.91687750000000001): 12,\n",
       "         (0.88927669999999992, 0.91687750000000001, 0.89166520000000005): 12,\n",
       "         (0.89115, 0.91649190000000003, 0.93044619999999989): 12,\n",
       "         (0.89115, 0.93044619999999989, 0.91649190000000003): 12,\n",
       "         (0.89118019999999998, 0.90250420000000009, 0.91626850000000004): 12,\n",
       "         (0.89118019999999998, 0.91626850000000004, 0.90250420000000009): 12,\n",
       "         (0.89121040000000007, 0.88896469999999994, 0.90253519999999987): 12,\n",
       "         (0.89121040000000007, 0.90253519999999987, 0.88896469999999994): 12,\n",
       "         (0.89161769999999996, 0.9168269, 0.94518700000000011): 12,\n",
       "         (0.89161769999999996, 0.94518700000000011, 0.9168269): 12,\n",
       "         (0.89164140000000003, 0.90282729999999989, 0.93081209999999992): 12,\n",
       "         (0.89164140000000003, 0.93081209999999992, 0.90282729999999989): 12,\n",
       "         (0.89166520000000005, 0.88927669999999992, 0.91687750000000001): 12,\n",
       "         (0.89166520000000005, 0.91687750000000001, 0.88927669999999992): 12,\n",
       "         (0.8920691999999999, 0.93112630000000018, 0.94553280000000017): 12,\n",
       "         (0.8920691999999999, 0.94553280000000017, 0.93112630000000018): 12,\n",
       "         (0.89208679999999996, 0.91692530000000017, 0.93114580000000002): 12,\n",
       "         (0.89208679999999996, 0.93114580000000002, 0.91692530000000017): 12,\n",
       "         (0.89210430000000007, 0.90316919999999989, 0.91719970000000006): 12,\n",
       "         (0.89210430000000007, 0.91719970000000006, 0.90316919999999989): 12,\n",
       "         (0.89275119999999986, 0.89287620000000012, 0.89299739999999994): 12,\n",
       "         (0.89275119999999986, 0.89299739999999994, 0.89287620000000012): 12,\n",
       "         (0.89287620000000012, 0.89275119999999986, 0.89299739999999994): 12,\n",
       "         (0.89287620000000012, 0.89299739999999994, 0.89275119999999986): 12,\n",
       "         (0.89299739999999994, 0.89275119999999986, 0.89287620000000012): 12,\n",
       "         (0.89299739999999994, 0.89287620000000012, 0.89275119999999986): 12,\n",
       "         (0.90250420000000009, 0.89118019999999998, 0.91626850000000004): 12,\n",
       "         (0.90250420000000009, 0.91626850000000004, 0.89118019999999998): 12,\n",
       "         (0.90253519999999987, 0.88896469999999994, 0.89121040000000007): 12,\n",
       "         (0.90253519999999987, 0.89121040000000007, 0.88896469999999994): 12,\n",
       "         (0.90282729999999989, 0.89164140000000003, 0.93081209999999992): 12,\n",
       "         (0.90282729999999989, 0.93081209999999992, 0.89164140000000003): 12,\n",
       "         (0.90316919999999989, 0.89210430000000007, 0.91719970000000006): 12,\n",
       "         (0.90316919999999989, 0.91719970000000006, 0.89210430000000007): 12,\n",
       "         (0.91626850000000004, 0.89118019999999998, 0.90250420000000009): 12,\n",
       "         (0.91626850000000004, 0.90250420000000009, 0.89118019999999998): 12,\n",
       "         (0.91649190000000003, 0.89115, 0.93044619999999989): 12,\n",
       "         (0.91649190000000003, 0.93044619999999989, 0.89115): 12,\n",
       "         (0.9168269, 0.89161769999999996, 0.94518700000000011): 12,\n",
       "         (0.9168269, 0.94518700000000011, 0.89161769999999996): 12,\n",
       "         (0.91687750000000001, 0.88927669999999992, 0.89166520000000005): 12,\n",
       "         (0.91687750000000001, 0.89166520000000005, 0.88927669999999992): 12,\n",
       "         (0.91692530000000017, 0.89208679999999996, 0.93114580000000002): 12,\n",
       "         (0.91692530000000017, 0.93114580000000002, 0.89208679999999996): 12,\n",
       "         (0.91719970000000006, 0.89210430000000007, 0.90316919999999989): 12,\n",
       "         (0.91719970000000006, 0.90316919999999989, 0.89210430000000007): 12,\n",
       "         (0.93044619999999989, 0.89115, 0.91649190000000003): 12,\n",
       "         (0.93044619999999989, 0.91649190000000003, 0.89115): 12,\n",
       "         (0.93081209999999992, 0.89164140000000003, 0.90282729999999989): 12,\n",
       "         (0.93081209999999992, 0.90282729999999989, 0.89164140000000003): 12,\n",
       "         (0.93112630000000018, 0.8920691999999999, 0.94553280000000017): 12,\n",
       "         (0.93112630000000018, 0.94553280000000017, 0.8920691999999999): 12,\n",
       "         (0.93114580000000002, 0.89208679999999996, 0.91692530000000017): 12,\n",
       "         (0.93114580000000002, 0.91692530000000017, 0.89208679999999996): 12,\n",
       "         (0.94518700000000011, 0.89161769999999996, 0.9168269): 12,\n",
       "         (0.94518700000000011, 0.9168269, 0.89161769999999996): 12,\n",
       "         (0.94553280000000017, 0.8920691999999999, 0.93112630000000018): 12,\n",
       "         (0.94553280000000017, 0.93112630000000018, 0.8920691999999999): 12})"
      ]
     },
     "execution_count": 13,
     "metadata": {},
     "output_type": "execute_result"
    }
   ],
   "source": [
    "index_maps = [permutation2_to_index_map(_) for _ in generated]\n",
    "fids = [tuple([fidelity(calc(ind, _, qs=[0.1/6,0.2/6,0.3/6])) for _ in [1,2,3]])\n",
    "        for ind in index_maps]\n",
    "Counter(fids)"
   ]
  },
  {
   "cell_type": "code",
   "execution_count": 14,
   "metadata": {},
   "outputs": [
    {
     "data": {
      "text/plain": [
       "Counter({0.89164140000000003: 216,\n",
       "         0.89287620000000012: 72,\n",
       "         0.91659669999999982: 432})"
      ]
     },
     "execution_count": 14,
     "metadata": {},
     "output_type": "execute_result"
    }
   ],
   "source": [
    "fids = [fidelity(calc(ind, 3)) for ind in index_maps]\n",
    "c = Counter(fids)\n",
    "c"
   ]
  },
  {
   "cell_type": "code",
   "execution_count": 16,
   "metadata": {},
   "outputs": [
    {
     "data": {
      "text/plain": [
       "Counter({0.88896469999999994: 24,\n",
       "         0.88927669999999992: 24,\n",
       "         0.89115: 24,\n",
       "         0.89118019999999998: 24,\n",
       "         0.89121040000000007: 24,\n",
       "         0.89161769999999996: 24,\n",
       "         0.89164140000000003: 24,\n",
       "         0.89166520000000005: 24,\n",
       "         0.8920691999999999: 24,\n",
       "         0.89208679999999996: 24,\n",
       "         0.89210430000000007: 24,\n",
       "         0.89275119999999986: 24,\n",
       "         0.89287620000000012: 24,\n",
       "         0.89299739999999994: 24,\n",
       "         0.90250420000000009: 24,\n",
       "         0.90253519999999987: 24,\n",
       "         0.90282729999999989: 24,\n",
       "         0.90316919999999989: 24,\n",
       "         0.91626850000000004: 24,\n",
       "         0.91649190000000003: 24,\n",
       "         0.9168269: 24,\n",
       "         0.91687750000000001: 24,\n",
       "         0.91692530000000017: 24,\n",
       "         0.91719970000000006: 24,\n",
       "         0.93044619999999989: 24,\n",
       "         0.93081209999999992: 24,\n",
       "         0.93112630000000018: 24,\n",
       "         0.93114580000000002: 24,\n",
       "         0.94518700000000011: 24,\n",
       "         0.94553280000000017: 24})"
      ]
     },
     "execution_count": 16,
     "metadata": {},
     "output_type": "execute_result"
    }
   ],
   "source": [
    "fids = [fidelity(calc(ind, 3, qs=[0.1/6,0.2/6,0.3/6])) for ind in index_maps]\n",
    "c = Counter(fids)\n",
    "c"
   ]
  },
  {
   "cell_type": "code",
   "execution_count": 17,
   "metadata": {
    "collapsed": true
   },
   "outputs": [],
   "source": [
    "fids = [fidelity(calc(ind, 3)) for ind in index_maps]\n",
    "max_fid = max(fids)\n",
    "good_index_maps = [m for m,f in zip(index_maps, fids) if f==max_fid]\n",
    "good_permutations = [m for m,f in zip(generated, fids) if f==max_fid]"
   ]
  },
  {
   "cell_type": "code",
   "execution_count": 18,
   "metadata": {},
   "outputs": [
    {
     "data": {
      "text/plain": [
       "432"
      ]
     },
     "execution_count": 18,
     "metadata": {},
     "output_type": "execute_result"
    }
   ],
   "source": [
    "len(good_index_maps)"
   ]
  },
  {
   "cell_type": "code",
   "execution_count": 19,
   "metadata": {},
   "outputs": [
    {
     "data": {
      "text/plain": [
       "Counter({0.88896469999999994: 24,\n",
       "         0.88927669999999992: 24,\n",
       "         0.90250420000000009: 24,\n",
       "         0.90253519999999987: 24,\n",
       "         0.90282729999999989: 24,\n",
       "         0.90316919999999989: 24,\n",
       "         0.91626850000000004: 24,\n",
       "         0.91649190000000003: 24,\n",
       "         0.9168269: 24,\n",
       "         0.91687750000000001: 24,\n",
       "         0.91692530000000017: 24,\n",
       "         0.91719970000000006: 24,\n",
       "         0.93044619999999989: 24,\n",
       "         0.93081209999999992: 24,\n",
       "         0.93112630000000018: 24,\n",
       "         0.93114580000000002: 24,\n",
       "         0.94518700000000011: 24,\n",
       "         0.94553280000000017: 24})"
      ]
     },
     "execution_count": 19,
     "metadata": {},
     "output_type": "execute_result"
    }
   ],
   "source": [
    "fids = [fidelity(calc(ind, 3, qs=[0.1/6,0.2/6,0.3/6])) for ind in good_index_maps]\n",
    "c = Counter(fids)\n",
    "c"
   ]
  },
  {
   "cell_type": "code",
   "execution_count": 20,
   "metadata": {
    "collapsed": true
   },
   "outputs": [],
   "source": [
    "ABCDsT = [ABCD(calc(_,3)) for _ in good_index_maps]\n",
    "ABCDsC = np.array([(*k,v) for k,v in Counter(ABCDsT).items()])"
   ]
  },
  {
   "cell_type": "code",
   "execution_count": 22,
   "metadata": {
    "collapsed": true
   },
   "outputs": [],
   "source": [
    "import ternary\n",
    "def plot_fid_ternary(ABCDs, size=None, alpha=1, vminmax=None):\n",
    "    f, tax = ternary.figure()\n",
    "    f.set_size_inches(6, 4)\n",
    "    inf = 1-ABCDs[:,[0]]\n",
    "    if vminmax is None:\n",
    "        norm = mpl.colors.Normalize(vmax=max(inf),vmin=min(inf))\n",
    "    else:\n",
    "        norm = mpl.colors.Normalize(vmax=vminmax[1],vmin=vminmax[0])\n",
    "    clabel = 'Infidelity 1-Φ+'\n",
    "    cmap = plt.cm.viridis\n",
    "    if size is None:\n",
    "        size = ABCDs[:,4]\n",
    "    tax.scatter(ABCDs[:,[3,2,1]]/inf, c=inf, s=size, cmap=cmap, norm=norm, alpha=alpha)\n",
    "    cax = f.add_axes([0.83, 0.2, 0.02, 0.6])\n",
    "    cb = mpl.colorbar.ColorbarBase(cax, cmap=cmap, norm=norm, spacing='proportional')\n",
    "    cb.set_label(clabel)\n",
    "    tax.ax.set_aspect('equal')\n",
    "    tax.boundary(linewidth=0.1)\n",
    "    tax.gridlines(color=\"gray\", multiple=0.1, linewidth=0.5)\n",
    "    tax.ax.set_axis_off()\n",
    "    tax.ticks(axis='lbr', multiple=0.2, linewidth=2)\n",
    "    tax.bottom_axis_label('relative Φ-')\n",
    "    tax.right_axis_label('relative Ψ+\\n')\n",
    "    tax.left_axis_label('relative Ψ-\\n')\n",
    "    return f, tax"
   ]
  },
  {
   "cell_type": "code",
   "execution_count": 23,
   "metadata": {},
   "outputs": [
    {
     "name": "stdout",
     "output_type": "stream",
     "text": [
      "Counter({144.0: 3})\n"
     ]
    },
    {
     "name": "stderr",
     "output_type": "stream",
     "text": [
      "/home/stefan/python_lab35/lib/python3.5/site-packages/matplotlib/colorbar.py:810: RuntimeWarning: invalid value encountered in double_scalars\n",
      "  automin = (y[2] - y[1]) / clen\n",
      "/home/stefan/python_lab35/lib/python3.5/site-packages/matplotlib/colorbar.py:811: RuntimeWarning: invalid value encountered in double_scalars\n",
      "  automax = (y[-2] - y[-3]) / clen\n",
      "/home/stefan/python_lab35/lib/python3.5/site-packages/matplotlib/axes/_base.py:3193: UserWarning: Attempting to set identical bottom==top results\n",
      "in singular transformations; automatically expanding.\n",
      "bottom=0.0, top=0.0\n",
      "  'bottom=%s, top=%s') % (bottom, top))\n"
     ]
    },
    {
     "data": {
      "image/png": "[encoded data removed]",
      "text/plain": [
       "<matplotlib.figure.Figure at 0x7fd17451b6a0>"
      ]
     },
     "execution_count": 23,
     "metadata": {},
     "output_type": "execute_result"
    }
   ],
   "source": [
    "plt.close('all')\n",
    "print(Counter(ABCDsC[:,4]))\n",
    "plot_fid_ternary(ABCDsC)[0]"
   ]
  },
  {
   "cell_type": "code",
   "execution_count": 24,
   "metadata": {},
   "outputs": [
    {
     "name": "stdout",
     "output_type": "stream",
     "text": [
      "Counter({16.0: 27})\n"
     ]
    },
    {
     "data": {
      "image/png": "[encoded data removed]",
      "text/plain": [
       "<matplotlib.figure.Figure at 0x7fd171fcd1d0>"
      ]
     },
     "execution_count": 24,
     "metadata": {},
     "output_type": "execute_result"
    }
   ],
   "source": [
    "inf = 1-0.9\n",
    "qs = np.array([1/4,2/4,1/4])*inf\n",
    "ABCDsT = [ABCD(calc(_,3, qs)) for _ in good_index_maps]\n",
    "ABCDsC = np.array([(*k,v) for k,v in Counter(ABCDsT).items()])\n",
    "print(Counter(ABCDsC[:,4]))\n",
    "plot_fid_ternary(ABCDsC, size=100, alpha=0.5)[0]"
   ]
  },
  {
   "cell_type": "code",
   "execution_count": 25,
   "metadata": {
    "scrolled": false
   },
   "outputs": [
    {
     "name": "stdout",
     "output_type": "stream",
     "text": [
      "Counter({4.0: 108})\n"
     ]
    },
    {
     "data": {
      "image/png": "[encoded data removed]",
      "text/plain": [
       "<matplotlib.figure.Figure at 0x7fd171e3a0b8>"
      ]
     },
     "execution_count": 25,
     "metadata": {},
     "output_type": "execute_result"
    }
   ],
   "source": [
    "qs = np.array([1/6,2/6,3/6])*inf\n",
    "ABCDsT = [ABCD(calc(_,3, qs)) for _ in good_index_maps]\n",
    "ABCDsC = np.array([(*k,v) for k,v in Counter(ABCDsT).items()])\n",
    "print(Counter(ABCDsC[:,4]))\n",
    "plot_fid_ternary(ABCDsC)[0]"
   ]
  },
  {
   "cell_type": "code",
   "execution_count": 26,
   "metadata": {
    "collapsed": true
   },
   "outputs": [],
   "source": [
    "from ipywidgets import interact, interactive, fixed, interact_manual\n",
    "import ipywidgets as widgets"
   ]
  },
  {
   "cell_type": "code",
   "execution_count": 27,
   "metadata": {
    "collapsed": true
   },
   "outputs": [],
   "source": [
    "log = []\n",
    "import ternary\n",
    "def plot_fid_ternary(ABCDs, size=None, alpha=1, vminmax=[0,1], bests=None, standards=None):\n",
    "    f, tax = ternary.figure()\n",
    "    f.set_size_inches(12, 8)\n",
    "    inf = 1-ABCDs[:,[0]]\n",
    "    norm = mpl.colors.Normalize(vmax=vminmax[1],vmin=vminmax[0])\n",
    "    clabel = 'Infidelity 1-Φ+'\n",
    "    cmap = plt.cm.viridis\n",
    "    if bests is not None:\n",
    "        infb = 1-bests[:,[0]]\n",
    "        tax.plot(bests[:,[3,2,1]]/infb, marker='o', color='white', markeredgecolor='red', markersize=10, linewidth=0, zorder=-10)\n",
    "    if standards is not None:\n",
    "        infs = 1-standards[:,[0]]\n",
    "        tax.plot(standards[:,[3,2,1]]/infs, marker='x', color='black', markeredgecolor='red', markersize=10, linewidth=0, zorder=-9)\n",
    "    if size is None:\n",
    "        size = ABCDs[:,4]\n",
    "    tax.scatter(ABCDs[:,[3,2,1]]/inf, c=inf, s=size, cmap=cmap, norm=norm, alpha=alpha)\n",
    "    cax = f.add_axes([0.83, 0.2, 0.02, 0.6])\n",
    "    cb = mpl.colorbar.ColorbarBase(cax, cmap=cmap, norm=norm, spacing='proportional')\n",
    "    cax.hlines((np.unique(inf)-vminmax[0])/(vminmax[1]-vminmax[0]),0,1, alpha=0.5, linewidth=1)\n",
    "    cb.set_label(clabel)\n",
    "    tax.ax.set_aspect('equal')\n",
    "    tax.boundary(linewidth=0.1)\n",
    "    tax.gridlines(color=\"gray\", multiple=0.1, linewidth=0.5)\n",
    "    tax.ax.set_axis_off()\n",
    "    tax.ticks(axis='lbr', multiple=0.2, linewidth=2)\n",
    "    tax.bottom_axis_label('relative Φ-')\n",
    "    tax.right_axis_label('relative Ψ+\\n')\n",
    "    tax.left_axis_label('relative Ψ-\\n')\n",
    "    return f, tax"
   ]
  },
  {
   "cell_type": "code",
   "execution_count": 28,
   "metadata": {
    "collapsed": true
   },
   "outputs": [],
   "source": [
    "def calc_standard(meas, qs=None):\n",
    "    f = 0.9\n",
    "    inf = 1-f\n",
    "    p2 = 0.99\n",
    "    res = []\n",
    "    for targets, i_pair in zip([[0,1],  [1,0],  [0,1],    [0,1],   [1,0]],\n",
    "                               [cnot_i, cnot_i, cphase_i, cpnot_i, cpnot_i]):\n",
    "        probs = get_new_probs(2, f, qs)\n",
    "        probs_perm = probs\n",
    "        probs_perm = permute2_by_pairs(probs, targets, i_pair, 2)\n",
    "        probs_dep = depolarize2(probs_perm, [0,1], p2)\n",
    "        assert abs(np.sum(probs_dep)-1)<1e-9\n",
    "        res.append(ABCD(np.round(measure(probs_dep, 1, [0,meas], 2, f, p2), decimals=7))) # rounded to permit hashing\n",
    "    return res"
   ]
  },
  {
   "cell_type": "code",
   "execution_count": 29,
   "metadata": {
    "collapsed": true
   },
   "outputs": [],
   "source": [
    "def wrt_p_r(B=5.,C=5.,D=5., perm=[0,1,2]):\n",
    "    plt.close('all')\n",
    "    f = 0.9\n",
    "    inf = 1-f\n",
    "    qs = np.array([B,C,D])*1.\n",
    "    qs /= np.sum(qs)\n",
    "    qs *= inf\n",
    "    qs = qs[perm]\n",
    "    ABCDsT = [ABCD(calc(_,3, qs)) for _ in good_index_maps]\n",
    "    ABCDsC = np.array([(*k,v) for k,v in Counter(ABCDsT).items()])\n",
    "    best = np.max(ABCDsC[:,0])\n",
    "    ABCDsB = np.array([(*k,v) for k,v in Counter(ABCDsT).items() if abs(k[0]-best)<1e-6])\n",
    "    fig, t = plot_fid_ternary(ABCDsC, vminmax=[0.02,0.18], size=45, alpha=1,\n",
    "                              bests=ABCDsB, standards=np.array(calc_standard(3, qs)))\n",
    "    display(fig)\n",
    "    print(\"%d sets of %d elements\"%[(v,k) for k,v in Counter(ABCDsC[:,4]).items()][0])\n",
    "    print(\"%d of the sets are optimal\"%len(ABCDsB))\n",
    "    print(\"infidelity\",1-best)\n",
    "    #print(np.argwhere(abs(np.array(ABCDsT)[:,0]-best)<1e-6))\n",
    "    #return fig"
   ]
  },
  {
   "cell_type": "code",
   "execution_count": 30,
   "metadata": {},
   "outputs": [
    {
     "data": {
      "application/vnd.jupyter.widget-view+json": {
       "model_id": "f519fec2560d4d40aebb5f4fd3f398f0"
      }
     },
     "metadata": {},
     "output_type": "display_data"
    }
   ],
   "source": [
    "perm123 = [list(_) for _ in itertools.permutations([0,1,2])]\n",
    "interactive_plot = interactive(wrt_p_r, B=(1,10), C=(1,10), D=(1,10), perm=perm123, continuous_update=False)\n",
    "interactive_plot.layout.height = '700px'\n",
    "interactive_plot"
   ]
  },
  {
   "cell_type": "markdown",
   "metadata": {},
   "source": [
    "# TODO: The group structure starting from CNOT"
   ]
  },
  {
   "cell_type": "code",
   "execution_count": 34,
   "metadata": {
    "collapsed": true
   },
   "outputs": [],
   "source": [
    "letters = [''.join(_) for _ in itertools.product('ABCD', repeat=2)]\n",
    "to_letter_d = dict(zip(range(16),letters))\n",
    "to_index_d  = dict(zip(letters,range(16)))"
   ]
  },
  {
   "cell_type": "code",
   "execution_count": 35,
   "metadata": {
    "collapsed": true
   },
   "outputs": [],
   "source": [
    "cnot = tuple([to_index_d[_] for (__, _) in cpnot_l])"
   ]
  },
  {
   "cell_type": "code",
   "execution_count": 47,
   "metadata": {
    "collapsed": true
   },
   "outputs": [],
   "source": [
    "def c(*gate_ps):\n",
    "    l, *o = gate_ps\n",
    "    if o:\n",
    "        r, *o = o\n",
    "        lr = tuple(r[_] for _ in l)\n",
    "        return c(lr,*o)\n",
    "    else:\n",
    "        return l"
   ]
  },
  {
   "cell_type": "code",
   "execution_count": 48,
   "metadata": {},
   "outputs": [
    {
     "data": {
      "text/plain": [
       "(0, 1, 2, 3, 4, 5, 6, 7, 8, 9, 10, 11, 12, 13, 14, 15)"
      ]
     },
     "execution_count": 48,
     "metadata": {},
     "output_type": "execute_result"
    }
   ],
   "source": [
    "c(cnot, cnot)"
   ]
  },
  {
   "cell_type": "code",
   "execution_count": 45,
   "metadata": {},
   "outputs": [
    {
     "data": {
      "text/plain": [
       "True"
      ]
     },
     "execution_count": 45,
     "metadata": {},
     "output_type": "execute_result"
    }
   ],
   "source": [
    "c(list(range(16)), cnot) == cnot"
   ]
  },
  {
   "cell_type": "code",
   "execution_count": 36,
   "metadata": {},
   "outputs": [
    {
     "data": {
      "text/plain": [
       "Counter({0.88896469999999994: 24,\n",
       "         0.88927669999999992: 24,\n",
       "         0.90250420000000009: 24,\n",
       "         0.90253519999999987: 24,\n",
       "         0.90282729999999989: 24,\n",
       "         0.90316919999999989: 24,\n",
       "         0.91626850000000004: 24,\n",
       "         0.91649190000000003: 24,\n",
       "         0.9168269: 24,\n",
       "         0.91687750000000001: 24,\n",
       "         0.91692530000000017: 24,\n",
       "         0.91719970000000006: 24,\n",
       "         0.93044619999999989: 24,\n",
       "         0.93081209999999992: 24,\n",
       "         0.93112630000000018: 24,\n",
       "         0.93114580000000002: 24,\n",
       "         0.94518700000000011: 24,\n",
       "         0.94553280000000017: 24})"
      ]
     },
     "execution_count": 36,
     "metadata": {},
     "output_type": "execute_result"
    }
   ],
   "source": [
    "perms_1 = [\n",
    "    (0, 1, 2, 3, 4, 5, 6, 7, 8, 9, 10, 11, 12, 13, 14, 15),\n",
    "    (0, 1, 2, 3, 4, 5, 6, 7, 8, 9, 10, 11, 12, 13, 14, 15),\n",
    "    (0, 1, 2, 3, 4, 5, 6, 7, 8, 9, 10, 11, 12, 13, 14, 15),\n",
    "    (0, 1, 2, 3, 4, 5, 6, 7, 8, 9, 10, 11, 12, 13, 14, 15),\n",
    "    (0, 1, 2, 3, 4, 5, 6, 7, 8, 9, 10, 11, 12, 13, 14, 15),\n",
    "    (0, 1, 2, 3, 4, 5, 6, 7, 8, 9, 10, 11, 12, 13, 14, 15),\n",
    "    (0, 1, 2, 3, 4, 5, 6, 7, 8, 9, 10, 11, 12, 13, 14, 15),\n",
    "]"
   ]
  },
  {
   "cell_type": "code",
   "execution_count": 21,
   "metadata": {},
   "outputs": [
    {
     "data": {
      "text/plain": [
       "[(0, 3),\n",
       " (0, 3),\n",
       " (0, 3),\n",
       " (0, 3),\n",
       " (0, 3),\n",
       " (0, 3),\n",
       " (0, 3),\n",
       " (0, 3),\n",
       " (0, 3),\n",
       " (0, 3),\n",
       " (0, 3),\n",
       " (0, 3),\n",
       " (0, 3),\n",
       " (0, 3),\n",
       " (0, 3),\n",
       " (0, 3),\n",
       " (0, 3),\n",
       " (0, 3),\n",
       " (0, 3),\n",
       " (0, 3),\n",
       " (0, 3),\n",
       " (0, 3),\n",
       " (0, 3),\n",
       " (0, 3),\n",
       " (0, 3),\n",
       " (0, 3),\n",
       " (0, 3),\n",
       " (0, 3),\n",
       " (0, 3),\n",
       " (0, 3),\n",
       " (0, 3),\n",
       " (0, 3),\n",
       " (0, 3),\n",
       " (0, 3),\n",
       " (0, 3),\n",
       " (0, 3),\n",
       " (0, 3),\n",
       " (0, 3),\n",
       " (0, 3),\n",
       " (0, 3),\n",
       " (0, 3),\n",
       " (0, 3),\n",
       " (0, 3),\n",
       " (0, 3),\n",
       " (0, 3),\n",
       " (0, 3),\n",
       " (0, 3),\n",
       " (0, 3),\n",
       " (0, 3),\n",
       " (0, 3),\n",
       " (0, 3),\n",
       " (0, 3),\n",
       " (0, 3),\n",
       " (0, 3),\n",
       " (0, 3),\n",
       " (0, 3),\n",
       " (0, 3),\n",
       " (0, 3),\n",
       " (0, 3),\n",
       " (0, 3),\n",
       " (0, 3),\n",
       " (0, 3),\n",
       " (0, 3),\n",
       " (0, 3),\n",
       " (0, 3),\n",
       " (0, 3),\n",
       " (0, 3),\n",
       " (0, 3),\n",
       " (0, 3),\n",
       " (0, 3),\n",
       " (0, 3),\n",
       " (0, 3),\n",
       " (0, 3),\n",
       " (0, 3),\n",
       " (0, 3),\n",
       " (0, 3),\n",
       " (0, 3),\n",
       " (0, 3),\n",
       " (0, 3),\n",
       " (0, 3),\n",
       " (0, 3),\n",
       " (0, 3),\n",
       " (0, 3),\n",
       " (0, 3),\n",
       " (0, 3),\n",
       " (0, 3),\n",
       " (0, 3),\n",
       " (0, 3),\n",
       " (0, 3),\n",
       " (0, 3),\n",
       " (0, 3),\n",
       " (0, 3),\n",
       " (0, 3),\n",
       " (0, 3),\n",
       " (0, 3),\n",
       " (0, 3),\n",
       " (0, 3),\n",
       " (0, 3),\n",
       " (0, 3),\n",
       " (0, 3),\n",
       " (0, 3),\n",
       " (0, 3),\n",
       " (0, 3),\n",
       " (0, 3),\n",
       " (0, 3),\n",
       " (0, 3),\n",
       " (0, 3),\n",
       " (0, 3),\n",
       " (0, 3),\n",
       " (0, 3),\n",
       " (0, 3),\n",
       " (0, 3),\n",
       " (0, 3),\n",
       " (0, 3),\n",
       " (0, 3),\n",
       " (0, 3),\n",
       " (0, 3),\n",
       " (0, 3),\n",
       " (0, 3),\n",
       " (0, 3),\n",
       " (0, 3),\n",
       " (0, 3),\n",
       " (0, 3),\n",
       " (0, 3),\n",
       " (0, 3),\n",
       " (0, 3),\n",
       " (0, 3),\n",
       " (0, 3),\n",
       " (0, 3),\n",
       " (0, 3),\n",
       " (0, 3),\n",
       " (0, 3),\n",
       " (0, 3),\n",
       " (0, 3),\n",
       " (0, 3),\n",
       " (0, 3),\n",
       " (0, 3),\n",
       " (0, 3),\n",
       " (0, 3),\n",
       " (0, 3),\n",
       " (0, 3),\n",
       " (0, 3),\n",
       " (0, 3),\n",
       " (0, 3),\n",
       " (0, 3),\n",
       " (0, 3),\n",
       " (0, 3),\n",
       " (0, 3),\n",
       " (0, 3),\n",
       " (0, 3),\n",
       " (0, 3),\n",
       " (0, 3),\n",
       " (0, 3),\n",
       " (0, 3),\n",
       " (0, 3),\n",
       " (0, 3),\n",
       " (0, 3),\n",
       " (0, 3),\n",
       " (0, 3),\n",
       " (0, 3),\n",
       " (0, 3),\n",
       " (0, 3),\n",
       " (0, 3),\n",
       " (0, 3),\n",
       " (0, 3),\n",
       " (0, 3),\n",
       " (0, 3),\n",
       " (0, 3),\n",
       " (0, 3),\n",
       " (0, 3),\n",
       " (0, 3),\n",
       " (0, 3),\n",
       " (0, 3),\n",
       " (0, 3),\n",
       " (0, 3),\n",
       " (0, 3),\n",
       " (0, 3),\n",
       " (0, 3),\n",
       " (0, 3),\n",
       " (0, 3),\n",
       " (0, 3),\n",
       " (0, 3),\n",
       " (0, 3),\n",
       " (0, 3),\n",
       " (0, 3),\n",
       " (0, 3),\n",
       " (0, 3),\n",
       " (0, 3),\n",
       " (0, 3),\n",
       " (0, 3),\n",
       " (0, 3),\n",
       " (0, 3),\n",
       " (0, 3),\n",
       " (0, 3),\n",
       " (0, 3),\n",
       " (0, 3),\n",
       " (0, 3),\n",
       " (0, 3),\n",
       " (0, 3),\n",
       " (0, 3),\n",
       " (0, 3),\n",
       " (0, 3),\n",
       " (0, 3),\n",
       " (0, 3),\n",
       " (0, 3),\n",
       " (0, 3),\n",
       " (0, 3),\n",
       " (0, 3),\n",
       " (0, 3),\n",
       " (0, 3),\n",
       " (0, 3),\n",
       " (0, 3),\n",
       " (0, 3),\n",
       " (0, 3),\n",
       " (0, 3),\n",
       " (0, 3),\n",
       " (0, 3),\n",
       " (0, 3),\n",
       " (0, 3),\n",
       " (0, 3),\n",
       " (0, 3),\n",
       " (0, 3),\n",
       " (0, 3),\n",
       " (0, 3),\n",
       " (0, 3),\n",
       " (0, 3),\n",
       " (0, 3),\n",
       " (0, 3),\n",
       " (0, 3),\n",
       " (0, 3),\n",
       " (0, 3),\n",
       " (0, 3),\n",
       " (0, 3),\n",
       " (0, 3),\n",
       " (0, 3),\n",
       " (0, 3),\n",
       " (0, 3),\n",
       " (0, 3),\n",
       " (0, 3),\n",
       " (0, 3),\n",
       " (0, 3),\n",
       " (0, 3),\n",
       " (0, 3),\n",
       " (0, 3),\n",
       " (0, 3),\n",
       " (0, 3),\n",
       " (0, 3),\n",
       " (0, 3),\n",
       " (0, 3),\n",
       " (0, 3),\n",
       " (0, 3),\n",
       " (0, 3),\n",
       " (0, 3),\n",
       " (0, 3),\n",
       " (0, 3),\n",
       " (0, 3),\n",
       " (0, 3),\n",
       " (0, 3),\n",
       " (0, 3),\n",
       " (0, 3),\n",
       " (0, 3),\n",
       " (0, 3),\n",
       " (0, 3),\n",
       " (0, 3),\n",
       " (0, 3),\n",
       " (0, 3),\n",
       " (0, 3),\n",
       " (0, 3),\n",
       " (0, 3),\n",
       " (0, 3),\n",
       " (0, 3),\n",
       " (0, 3),\n",
       " (0, 3),\n",
       " (0, 3),\n",
       " (0, 3),\n",
       " (0, 3),\n",
       " (0, 3),\n",
       " (0, 3),\n",
       " (0, 3),\n",
       " (0, 3),\n",
       " (0, 3),\n",
       " (0, 3),\n",
       " (0, 3),\n",
       " (0, 3),\n",
       " (0, 3),\n",
       " (0, 3),\n",
       " (0, 3),\n",
       " (0, 3),\n",
       " (0, 3),\n",
       " (0, 3),\n",
       " (0, 3),\n",
       " (0, 3),\n",
       " (0, 3),\n",
       " (0, 3),\n",
       " (0, 3),\n",
       " (0, 3),\n",
       " (0, 3),\n",
       " (0, 3),\n",
       " (0, 3),\n",
       " (0, 3),\n",
       " (0, 3),\n",
       " (0, 3),\n",
       " (0, 3),\n",
       " (0, 3),\n",
       " (0, 3),\n",
       " (0, 3),\n",
       " (0, 3),\n",
       " (0, 3),\n",
       " (0, 3),\n",
       " (0, 3),\n",
       " (0, 3),\n",
       " (0, 3),\n",
       " (0, 3),\n",
       " (0, 3),\n",
       " (0, 3),\n",
       " (0, 3),\n",
       " (0, 3),\n",
       " (0, 3),\n",
       " (0, 3),\n",
       " (0, 3),\n",
       " (0, 3),\n",
       " (0, 3),\n",
       " (0, 3),\n",
       " (0, 3),\n",
       " (0, 3),\n",
       " (0, 3),\n",
       " (0, 3),\n",
       " (0, 3),\n",
       " (0, 3),\n",
       " (0, 3),\n",
       " (0, 3),\n",
       " (0, 3),\n",
       " (0, 3),\n",
       " (0, 3),\n",
       " (0, 3),\n",
       " (0, 3),\n",
       " (0, 3),\n",
       " (0, 3),\n",
       " (0, 3),\n",
       " (0, 3),\n",
       " (0, 3),\n",
       " (0, 3),\n",
       " (0, 3),\n",
       " (0, 3),\n",
       " (0, 3),\n",
       " (0, 3),\n",
       " (0, 3),\n",
       " (0, 3),\n",
       " (0, 3),\n",
       " (0, 3),\n",
       " (0, 3),\n",
       " (0, 3),\n",
       " (0, 3),\n",
       " (0, 3),\n",
       " (0, 3),\n",
       " (0, 3),\n",
       " (0, 3),\n",
       " (0, 3),\n",
       " (0, 3),\n",
       " (0, 3),\n",
       " (0, 3),\n",
       " (0, 3),\n",
       " (0, 3),\n",
       " (0, 3),\n",
       " (0, 3),\n",
       " (0, 3),\n",
       " (0, 3),\n",
       " (0, 3),\n",
       " (0, 3),\n",
       " (0, 3),\n",
       " (0, 3),\n",
       " (0, 3),\n",
       " (0, 3),\n",
       " (0, 3),\n",
       " (0, 3),\n",
       " (0, 3),\n",
       " (0, 3),\n",
       " (0, 3),\n",
       " (0, 3),\n",
       " (0, 3),\n",
       " (0, 3),\n",
       " (0, 3),\n",
       " (0, 3),\n",
       " (0, 3),\n",
       " (0, 3),\n",
       " (0, 3),\n",
       " (0, 3),\n",
       " (0, 3),\n",
       " (0, 3),\n",
       " (0, 3),\n",
       " (0, 3),\n",
       " (0, 3),\n",
       " (0, 3),\n",
       " (0, 3),\n",
       " (0, 3),\n",
       " (0, 3),\n",
       " (0, 3),\n",
       " (0, 3),\n",
       " (0, 3),\n",
       " (0, 3),\n",
       " (0, 3),\n",
       " (0, 3),\n",
       " (0, 3),\n",
       " (0, 3),\n",
       " (0, 3),\n",
       " (0, 3),\n",
       " (0, 3),\n",
       " (0, 3),\n",
       " (0, 3),\n",
       " (0, 3),\n",
       " (0, 3),\n",
       " (0, 3),\n",
       " (0, 3),\n",
       " (0, 3),\n",
       " (0, 3),\n",
       " (0, 3),\n",
       " (0, 3),\n",
       " (0, 3),\n",
       " (0, 3),\n",
       " (0, 3),\n",
       " (0, 3),\n",
       " (0, 3),\n",
       " (0, 3),\n",
       " (0, 3),\n",
       " (0, 3),\n",
       " (0, 3),\n",
       " (0, 3),\n",
       " (0, 3),\n",
       " (0, 3),\n",
       " (0, 3),\n",
       " (0, 3),\n",
       " (0, 3)]"
      ]
     },
     "execution_count": 21,
     "metadata": {},
     "output_type": "execute_result"
    }
   ],
   "source": [
    "cat_1 = []"
   ]
  },
  {
   "cell_type": "code",
   "execution_count": 33,
   "metadata": {},
   "outputs": [
    {
     "name": "stdout",
     "output_type": "stream",
     "text": [
      "AA - FF\n",
      "AB - Fq\n",
      "AC - Fq\n",
      "AD - Fq\n",
      "BA - qF\n",
      "BB - qq\n",
      "BC - qq\n",
      "BD - qq\n",
      "CA - qF\n",
      "CB - qq\n",
      "CC - qq\n",
      "CD - qq\n",
      "DA - qF\n",
      "DB - qq\n",
      "DC - qq\n",
      "DD - qq\n"
     ]
    }
   ],
   "source": [
    "for (a,b),(p,q) in zip(itertools.product('ABCD', repeat=2), itertools.product('Fqqq', repeat=2)):\n",
    "    print('%s%s - %s%s'%(a,b,p,q))"
   ]
  }
 ],
 "metadata": {
  "hide_input": false,
  "kernelspec": {
   "display_name": "Python 3",
   "language": "python",
   "name": "python3"
  },
  "language_info": {
   "codemirror_mode": {
    "name": "ipython",
    "version": 3
   },
   "file_extension": ".py",
   "mimetype": "text/x-python",
   "name": "python",
   "nbconvert_exporter": "python",
   "pygments_lexer": "ipython3",
   "version": "3.5.3"
  },
  "toc": {
   "colors": {
    "hover_highlight": "#DAA520",
    "running_highlight": "#FF0000",
    "selected_highlight": "#FFD700"
   },
   "moveMenuLeft": true,
   "nav_menu": {
    "height": "12px",
    "width": "252px"
   },
   "navigate_menu": true,
   "number_sections": true,
   "sideBar": true,
   "threshold": 4,
   "toc_cell": false,
   "toc_section_display": "block",
   "toc_window_display": false,
   "widenNotebook": false
  }
 },
 "nbformat": 4,
 "nbformat_minor": 2
}
