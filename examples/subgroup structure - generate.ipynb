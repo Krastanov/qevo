{
 "cells": [
  {
   "cell_type": "code",
   "execution_count": 1,
   "metadata": {
    "collapsed": true
   },
   "outputs": [],
   "source": [
    "import itertools\n",
    "from qevo import *\n",
    "import qutip\n",
    "import numpy as np\n",
    "from IPython.display import display\n",
    "from tqdm import tqdm\n",
    "from collections import Counter"
   ]
  },
  {
   "cell_type": "code",
   "execution_count": 2,
   "metadata": {
    "collapsed": true
   },
   "outputs": [],
   "source": [
    "r = lambda gate_l:sorted([(i[::-1], o[::-1]) for i, o in gate_l] , key=lambda _:_[0])\n",
    "cnotr_l = r(cnot_l)\n",
    "cpnotr_l = r(cpnot_l)"
   ]
  },
  {
   "cell_type": "code",
   "execution_count": 3,
   "metadata": {
    "collapsed": true
   },
   "outputs": [],
   "source": [
    "letters = [''.join(_) for _ in itertools.product('ABCD', repeat=2)]\n",
    "to_letter_d = dict(zip(range(16),letters))\n",
    "to_index_d  = dict(zip(letters,range(16)))"
   ]
  },
  {
   "cell_type": "code",
   "execution_count": 4,
   "metadata": {
    "collapsed": true
   },
   "outputs": [],
   "source": [
    "generators = {tuple(to_index_d[_[1]] for _ in gate_l) for gate_l in [cnot_l, cphase_l, cpnot_l, cnotr_l, cpnotr_l]}"
   ]
  },
  {
   "cell_type": "code",
   "execution_count": 5,
   "metadata": {},
   "outputs": [
    {
     "data": {
      "text/plain": [
       "{(0, 1, 14, 15, 9, 8, 7, 6, 5, 4, 11, 10, 12, 13, 2, 3),\n",
       " (0, 6, 5, 3, 4, 2, 1, 7, 11, 13, 14, 8, 15, 9, 10, 12),\n",
       " (0, 9, 10, 3, 7, 14, 13, 4, 8, 1, 2, 11, 15, 6, 5, 12),\n",
       " (0, 13, 2, 15, 6, 11, 4, 9, 10, 7, 8, 5, 12, 1, 14, 3),\n",
       " (0, 13, 14, 3, 7, 10, 9, 4, 11, 6, 5, 8, 12, 1, 2, 15)}"
      ]
     },
     "execution_count": 5,
     "metadata": {},
     "output_type": "execute_result"
    }
   ],
   "source": [
    "generators"
   ]
  },
  {
   "cell_type": "code",
   "execution_count": 6,
   "metadata": {
    "collapsed": true
   },
   "outputs": [],
   "source": [
    "def c(*gate_ls):\n",
    "    l, *o = gate_ls\n",
    "    if o:\n",
    "        r, *o = o\n",
    "        lr = tuple(r[l[_]] for _ in range(16))\n",
    "        return c(lr,*o)\n",
    "    else:\n",
    "        return l"
   ]
  },
  {
   "cell_type": "code",
   "execution_count": 7,
   "metadata": {
    "collapsed": true
   },
   "outputs": [],
   "source": [
    "def products(generators):\n",
    "    return {c(l,r) for l,r in tqdm(itertools.product(generators, repeat=2), total=len(generators)**2)}"
   ]
  },
  {
   "cell_type": "code",
   "execution_count": 8,
   "metadata": {
    "collapsed": true
   },
   "outputs": [],
   "source": [
    "def repeated_generation(generators,repeat):\n",
    "    print(len(generators), flush=True)\n",
    "    if repeat:\n",
    "        next_gen = products(generators)|generators\n",
    "        return repeated_generation(next_gen, repeat-1)\n",
    "    return generators"
   ]
  },
  {
   "cell_type": "code",
   "execution_count": 9,
   "metadata": {},
   "outputs": [
    {
     "name": "stdout",
     "output_type": "stream",
     "text": [
      "5\n"
     ]
    },
    {
     "name": "stderr",
     "output_type": "stream",
     "text": [
      "100%|██████████| 25/25 [00:00<00:00, 18838.95it/s]"
     ]
    },
    {
     "name": "stdout",
     "output_type": "stream",
     "text": [
      "10\n"
     ]
    },
    {
     "name": "stderr",
     "output_type": "stream",
     "text": [
      "\n",
      "100%|██████████| 100/100 [00:00<00:00, 36532.57it/s]"
     ]
    },
    {
     "name": "stdout",
     "output_type": "stream",
     "text": [
      "12\n"
     ]
    },
    {
     "name": "stderr",
     "output_type": "stream",
     "text": [
      "\n",
      "100%|██████████| 144/144 [00:00<00:00, 51267.28it/s]"
     ]
    },
    {
     "name": "stdout",
     "output_type": "stream",
     "text": [
      "12\n"
     ]
    },
    {
     "name": "stderr",
     "output_type": "stream",
     "text": [
      "\n"
     ]
    }
   ],
   "source": [
    "generated = repeated_generation(generators, 3)\n",
    "generated = list(generated)"
   ]
  },
  {
   "cell_type": "code",
   "execution_count": 10,
   "metadata": {},
   "outputs": [
    {
     "data": {
      "text/plain": [
       "array([[0, 0, 0, 0, 0, 0, 0, 0, 1, 0, 0, 0],\n",
       "       [0, 0, 0, 0, 0, 0, 0, 0, 0, 0, 0, 1],\n",
       "       [0, 0, 1, 0, 0, 0, 0, 0, 0, 0, 0, 0],\n",
       "       [0, 0, 0, 1, 0, 0, 0, 0, 0, 0, 0, 0],\n",
       "       [0, 0, 0, 0, 1, 0, 0, 0, 0, 0, 0, 0],\n",
       "       [0, 0, 0, 0, 0, 1, 0, 0, 0, 0, 0, 0],\n",
       "       [0, 0, 0, 0, 0, 0, 1, 0, 0, 0, 0, 0],\n",
       "       [0, 0, 0, 0, 0, 0, 0, 1, 0, 0, 0, 0],\n",
       "       [1, 0, 0, 0, 0, 0, 0, 0, 0, 0, 0, 0],\n",
       "       [0, 0, 0, 0, 0, 0, 0, 0, 0, 1, 0, 0],\n",
       "       [0, 0, 0, 0, 0, 0, 0, 0, 0, 0, 1, 0],\n",
       "       [0, 1, 0, 0, 0, 0, 0, 0, 0, 0, 0, 0]])"
      ]
     },
     "execution_count": 10,
     "metadata": {},
     "output_type": "execute_result"
    }
   ],
   "source": [
    "r = np.array([1 if (c(l,r)==tuple(range(16))) else 0 for l,r in itertools.product(generated, repeat=2)])\n",
    "r.shape = [len(generated)]*2\n",
    "r"
   ]
  },
  {
   "cell_type": "code",
   "execution_count": 11,
   "metadata": {},
   "outputs": [
    {
     "data": {
      "text/plain": [
       "[(0, 7, 8, 15, 9, 14, 1, 6, 10, 13, 2, 5, 3, 4, 11, 12),\n",
       " (0, 9, 5, 12, 1, 8, 4, 13, 14, 7, 11, 2, 15, 6, 10, 3),\n",
       " (0, 1, 14, 15, 9, 8, 7, 6, 5, 4, 11, 10, 12, 13, 2, 3),\n",
       " (0, 1, 2, 3, 4, 5, 6, 7, 8, 9, 10, 11, 12, 13, 14, 15),\n",
       " (0, 7, 11, 12, 13, 10, 6, 1, 14, 9, 5, 2, 3, 4, 8, 15),\n",
       " (0, 13, 2, 15, 6, 11, 4, 9, 10, 7, 8, 5, 12, 1, 14, 3),\n",
       " (0, 9, 10, 3, 7, 14, 13, 4, 8, 1, 2, 11, 15, 6, 5, 12),\n",
       " (0, 6, 5, 3, 4, 2, 1, 7, 11, 13, 14, 8, 15, 9, 10, 12),\n",
       " (0, 6, 10, 12, 13, 11, 7, 1, 2, 4, 8, 14, 15, 9, 5, 3),\n",
       " (0, 4, 8, 12, 1, 5, 9, 13, 2, 6, 10, 14, 3, 7, 11, 15),\n",
       " (0, 13, 14, 3, 7, 10, 9, 4, 11, 6, 5, 8, 12, 1, 2, 15),\n",
       " (0, 4, 11, 15, 6, 2, 13, 9, 5, 1, 14, 10, 3, 7, 8, 12)]"
      ]
     },
     "execution_count": 11,
     "metadata": {},
     "output_type": "execute_result"
    }
   ],
   "source": [
    "generated"
   ]
  },
  {
   "cell_type": "code",
   "execution_count": 12,
   "metadata": {
    "collapsed": true
   },
   "outputs": [],
   "source": [
    "def order(el):\n",
    "    el_c = el\n",
    "    o = 1\n",
    "    while el_c!=tuple(range(16)):\n",
    "        el_c = c(el_c,el)\n",
    "        o += 1\n",
    "    return o"
   ]
  },
  {
   "cell_type": "code",
   "execution_count": 13,
   "metadata": {},
   "outputs": [
    {
     "data": {
      "text/plain": [
       "[3, 6, 2, 1, 2, 2, 2, 2, 3, 2, 2, 6]"
      ]
     },
     "execution_count": 13,
     "metadata": {},
     "output_type": "execute_result"
    }
   ],
   "source": [
    "[order(_) for _ in generated]"
   ]
  },
  {
   "cell_type": "code",
   "execution_count": 14,
   "metadata": {
    "collapsed": true
   },
   "outputs": [],
   "source": [
    "def permutation2_to_index_map(permutation2):\n",
    "    return [(_//4,_%4) for _ in permutation2]\n",
    "def permute2(probs, targets, permutation2_index, N):\n",
    "    slices_a = [slice(None)]*N\n",
    "    slices_b = [slice(None)]*N\n",
    "    t1, t2 = targets\n",
    "    new_probs = probs.copy()\n",
    "    for (l1, l2),(r1,r2) in zip(itertools.product(range(4), repeat=2),permutation2_index):\n",
    "        slices_a[t1] = l1\n",
    "        slices_a[t2] = l2\n",
    "        slices_b[t1] = r1\n",
    "        slices_b[t2] = r2\n",
    "        new_probs[tuple(slices_b)] = probs[tuple(slices_a)]\n",
    "    return new_probs\n",
    "f = 0.9\n",
    "p2 = 0.99\n",
    "index_maps = [permutation2_to_index_map(_) for _ in generated]\n",
    "def calcF(ind, meas):\n",
    "    probs = get_new_probs(2, f)\n",
    "    probs_perm = probs\n",
    "    probs_perm = permute2(probs, [0,1], ind, 2)\n",
    "    probs_dep = depolarize2(probs_perm, [0,1], p2)\n",
    "    assert abs(np.sum(probs_dep)-1)<1e-9\n",
    "    return np.round(measure(probs_dep, 1, [0,meas], 2, f, p2), decimals=7) # rounded to permit hashing\n",
    "fids = [tuple([fidelity(calcF(ind, _)) for _ in [1,2,3]]) for ind in index_maps]"
   ]
  },
  {
   "cell_type": "code",
   "execution_count": 15,
   "metadata": {},
   "outputs": [
    {
     "data": {
      "text/plain": [
       "Counter({(0.89164140000000003, 0.91659669999999982, 0.91659669999999982): 2,\n",
       "         (0.89287620000000012, 0.89287620000000012, 0.89287620000000012): 2,\n",
       "         (0.91659669999999982, 0.89164140000000003, 0.91659669999999982): 2,\n",
       "         (0.91659669999999982, 0.91659669999999982, 0.89164140000000003): 6})"
      ]
     },
     "execution_count": 15,
     "metadata": {},
     "output_type": "execute_result"
    }
   ],
   "source": [
    "Counter(fids)"
   ]
  },
  {
   "cell_type": "code",
   "execution_count": 16,
   "metadata": {},
   "outputs": [
    {
     "name": "stdout",
     "output_type": "stream",
     "text": [
      "total local Cliford gates (gen 2) (maybe not unique) 196\n"
     ]
    },
    {
     "name": "stderr",
     "output_type": "stream",
     "text": [
      "100%|██████████| 38416/38416 [00:27<00:00, 1400.91it/s]"
     ]
    },
    {
     "name": "stdout",
     "output_type": "stream",
     "text": [
      "total local Cliford gates (gen 3) (maybe not unique) 38416\n"
     ]
    },
    {
     "name": "stderr",
     "output_type": "stream",
     "text": [
      "\n"
     ]
    }
   ],
   "source": [
    "gates = [qutip.controlled_gate(cgate, N=2, control=0, target=1)\n",
    "         for cgate in [cnot_gate, cphase_gate, cnot_gate*cphase_gate]]\n",
    "gates+= [qutip.controlled_gate(cgate, N=2, control=1, target=0)\n",
    "         for cgate in [cnot_gate, cnot_gate*cphase_gate]]\n",
    "gates+= [qutip.tensor(l, r)\n",
    "         for l, r in itertools.product([qutip.identity(2),qutip.hadamard_transform(1),qutip.phasegate(np.pi/2)], repeat=2)]\n",
    "\n",
    "gatesT = [qutip.tensor(l,r).permute([0,2,1,3]) for l,r in itertools.product(gates, repeat=2)]\n",
    "\n",
    "def gates_equal(l,r):\n",
    "    return True if abs((l-r).norm())<0.001 else False\n",
    "\n",
    "def gate_is_in(gate, other_gates):\n",
    "    return any(gates_equal(gate,_) for _ in other_gates)\n",
    "\n",
    "def unique(gates):\n",
    "    unique_gates = []\n",
    "    gates = list(gates)\n",
    "    for i, gate in tqdm(enumerate(gates), total=len(gates)):\n",
    "        if not gate_is_in(gate, unique_gates):\n",
    "            unique_gates.append(gate)\n",
    "    return gates\n",
    "\n",
    "print('total local Cliford gates (gen 2) (maybe not unique)', len(gatesT), flush=True)\n",
    "\n",
    "#gatesT = unique(gatesT)\n",
    "#print('total local Cliford gates (gen 2) (unique)', len(gatesT))\n",
    "\n",
    "gatesT = [l*r for l,r in tqdm(itertools.product(gatesT, repeat=2), total=len(gatesT)**2)]\n",
    "print('total local Cliford gates (gen 3) (maybe not unique)', len(gatesT), flush=True)"
   ]
  },
  {
   "cell_type": "code",
   "execution_count": 17,
   "metadata": {},
   "outputs": [
    {
     "name": "stderr",
     "output_type": "stream",
     "text": [
      "100%|██████████| 38416/38416 [20:42<00:00, 20.10it/s]\n"
     ]
    }
   ],
   "source": [
    "gates_letters = []\n",
    "for g in tqdm(gatesT):\n",
    "    l = letter_map(g, exceptions=False) # I thought it would be faster if we do not\n",
    "    if l is None:                       # use exceptions... Well, while true in general,\n",
    "        continue                        # this is not the inner loop, so it does not\n",
    "    gates_letters.append(l)             # matter"
   ]
  },
  {
   "cell_type": "code",
   "execution_count": 18,
   "metadata": {},
   "outputs": [
    {
     "data": {
      "text/plain": [
       "730"
      ]
     },
     "execution_count": 18,
     "metadata": {},
     "output_type": "execute_result"
    }
   ],
   "source": [
    "len(gates_letters)"
   ]
  },
  {
   "cell_type": "code",
   "execution_count": 19,
   "metadata": {
    "collapsed": true
   },
   "outputs": [],
   "source": [
    "generators = {tuple(to_index_d[_[1]] for _ in gate_l) for gate_l in gates_letters}"
   ]
  },
  {
   "cell_type": "code",
   "execution_count": 20,
   "metadata": {},
   "outputs": [
    {
     "data": {
      "text/plain": [
       "115"
      ]
     },
     "execution_count": 20,
     "metadata": {},
     "output_type": "execute_result"
    }
   ],
   "source": [
    "len(generators)"
   ]
  },
  {
   "cell_type": "code",
   "execution_count": 21,
   "metadata": {},
   "outputs": [
    {
     "name": "stdout",
     "output_type": "stream",
     "text": [
      "115\n"
     ]
    },
    {
     "name": "stderr",
     "output_type": "stream",
     "text": [
      "100%|██████████| 13225/13225 [00:00<00:00, 138878.67it/s]"
     ]
    },
    {
     "name": "stdout",
     "output_type": "stream",
     "text": [
      "2113\n"
     ]
    },
    {
     "name": "stderr",
     "output_type": "stream",
     "text": [
      "\n",
      "100%|██████████| 4464769/4464769 [00:28<00:00, 157251.33it/s]"
     ]
    },
    {
     "name": "stdout",
     "output_type": "stream",
     "text": [
      "11520\n"
     ]
    },
    {
     "name": "stderr",
     "output_type": "stream",
     "text": [
      "\n"
     ]
    }
   ],
   "source": [
    "generated = repeated_generation(generators, 2) # after 2 it repeats\n",
    "generated = list(generated)"
   ]
  },
  {
   "cell_type": "code",
   "execution_count": 22,
   "metadata": {
    "collapsed": true
   },
   "outputs": [],
   "source": [
    "import pickle\n",
    "#with open('permutation_subgroup.pickle','wb') as f:\n",
    "#    pickle.dump(generated, f)"
   ]
  },
  {
   "cell_type": "code",
   "execution_count": 23,
   "metadata": {
    "collapsed": true
   },
   "outputs": [],
   "source": [
    "orders = [order(_) for _ in generated]"
   ]
  },
  {
   "cell_type": "code",
   "execution_count": 24,
   "metadata": {},
   "outputs": [
    {
     "data": {
      "text/plain": [
       "Counter({1: 1, 2: 375, 3: 800, 4: 2280, 5: 2304, 6: 3360, 8: 1440, 12: 960})"
      ]
     },
     "execution_count": 24,
     "metadata": {},
     "output_type": "execute_result"
    }
   ],
   "source": [
    "Counter(orders)"
   ]
  },
  {
   "cell_type": "code",
   "execution_count": 24,
   "metadata": {},
   "outputs": [
    {
     "data": {
      "text/plain": [
       "[((0, 1), (3, 1)),\n",
       " ((0, 3), (3, 3)),\n",
       " ((1, 0), (1, 2)),\n",
       " ((1, 1), (2, 3)),\n",
       " ((1, 3), (2, 1)),\n",
       " ((2, 0), (2, 2))]"
      ]
     },
     "execution_count": 24,
     "metadata": {},
     "output_type": "execute_result"
    }
   ],
   "source": [
    "cnot_i"
   ]
  },
  {
   "cell_type": "code",
   "execution_count": 25,
   "metadata": {},
   "outputs": [
    {
     "data": {
      "text/plain": [
       "[(0, 0),\n",
       " (3, 1),\n",
       " (0, 2),\n",
       " (3, 3),\n",
       " (1, 2),\n",
       " (2, 3),\n",
       " (1, 0),\n",
       " (2, 1),\n",
       " (2, 2),\n",
       " (1, 3),\n",
       " (2, 0),\n",
       " (1, 1),\n",
       " (3, 0),\n",
       " (0, 1),\n",
       " (3, 2),\n",
       " (0, 3)]"
      ]
     },
     "execution_count": 25,
     "metadata": {},
     "output_type": "execute_result"
    }
   ],
   "source": [
    "l = r = qutip.controlled_gate(cnot_gate, N=2, control=0, target=1)\n",
    "g = qutip.tensor(l,r).permute([0,2,1,3])\n",
    "gm = letter_map(g)\n",
    "gi = tuple(to_index_d[_[1]] for _ in gm)\n",
    "cnot_fulli = permutation2_to_index_map(gi)\n",
    "cnot_fulli"
   ]
  },
  {
   "cell_type": "code",
   "execution_count": 26,
   "metadata": {},
   "outputs": [
    {
     "data": {
      "text/plain": [
       "array([[ 0.81      ,  0.00111111,  0.03      ,  0.00111111],\n",
       "       [ 0.00111111,  0.00111111,  0.03      ,  0.00111111],\n",
       "       [ 0.00111111,  0.00111111,  0.03      ,  0.00111111],\n",
       "       [ 0.03      ,  0.03      ,  0.00111111,  0.03      ]])"
      ]
     },
     "execution_count": 26,
     "metadata": {},
     "output_type": "execute_result"
    }
   ],
   "source": [
    "permute2(get_new_probs(2, f), [0,1], cnot_fulli, 2)"
   ]
  },
  {
   "cell_type": "code",
   "execution_count": 27,
   "metadata": {},
   "outputs": [
    {
     "data": {
      "text/plain": [
       "array([[ 0.81      ,  0.00111111,  0.03      ,  0.00111111],\n",
       "       [ 0.00111111,  0.00111111,  0.03      ,  0.00111111],\n",
       "       [ 0.00111111,  0.00111111,  0.03      ,  0.00111111],\n",
       "       [ 0.03      ,  0.03      ,  0.00111111,  0.03      ]])"
      ]
     },
     "execution_count": 27,
     "metadata": {},
     "output_type": "execute_result"
    }
   ],
   "source": [
    "permute2_by_pairs(get_new_probs(2, f), [0,1], cnot_i, 2)"
   ]
  },
  {
   "cell_type": "code",
   "execution_count": 28,
   "metadata": {
    "collapsed": true
   },
   "outputs": [],
   "source": [
    "index_maps = [permutation2_to_index_map(_) for _ in generated]\n",
    "def calcF(ind, meas):\n",
    "    probs = get_new_probs(2, f)\n",
    "    probs_perm = probs\n",
    "    probs_perm = permute2(probs, [0,1], ind, 2)\n",
    "    probs_dep = depolarize2(probs_perm, [0,1], p2)\n",
    "    assert abs(np.sum(probs_dep)-1)<1e-9\n",
    "    return np.round(measure(probs_dep, 1, [0,meas], 2, f, p2), decimals=7) # rounded to permit hashing\n",
    "fids = [tuple([fidelity(calcF(ind, _)) for _ in [1,2,3]]) for ind in index_maps]"
   ]
  },
  {
   "cell_type": "code",
   "execution_count": 29,
   "metadata": {},
   "outputs": [
    {
     "data": {
      "text/plain": [
       "Counter({(0.0061230999999999985,\n",
       "          0.0061230999999999985,\n",
       "          0.035707999999999997): 432,\n",
       "         (0.0061230999999999985,\n",
       "          0.035707999999999997,\n",
       "          0.0061230999999999985): 432,\n",
       "         (0.0061230999999999985,\n",
       "          0.056738699999999996,\n",
       "          0.22129830000000003): 432,\n",
       "         (0.0061230999999999985,\n",
       "          0.22129830000000003,\n",
       "          0.056738699999999996): 432,\n",
       "         (0.035707999999999997,\n",
       "          0.0061230999999999985,\n",
       "          0.0061230999999999985): 432,\n",
       "         (0.035707999999999997,\n",
       "          0.035707999999999997,\n",
       "          0.035707999999999997): 216,\n",
       "         (0.035707999999999997,\n",
       "          0.056738699999999996,\n",
       "          0.056738699999999996): 216,\n",
       "         (0.035707999999999997, 0.22129830000000003, 0.22129830000000003): 432,\n",
       "         (0.036942800000000005,\n",
       "          0.071156999999999984,\n",
       "          0.071156999999999984): 216,\n",
       "         (0.036942800000000005, 0.22895199999999996, 0.22895199999999996): 216,\n",
       "         (0.056738699999999996,\n",
       "          0.0061230999999999985,\n",
       "          0.22129830000000003): 432,\n",
       "         (0.056738699999999996,\n",
       "          0.035707999999999997,\n",
       "          0.056738699999999996): 216,\n",
       "         (0.056738699999999996,\n",
       "          0.056738699999999996,\n",
       "          0.035707999999999997): 216,\n",
       "         (0.056738699999999996,\n",
       "          0.22129830000000003,\n",
       "          0.0061230999999999985): 432,\n",
       "         (0.071156999999999984,\n",
       "          0.036942800000000005,\n",
       "          0.071156999999999984): 216,\n",
       "         (0.071156999999999984,\n",
       "          0.071156999999999984,\n",
       "          0.036942800000000005): 216,\n",
       "         (0.071156999999999984, 0.22895199999999996, 0.65936220000000001): 216,\n",
       "         (0.071156999999999984, 0.65936220000000001, 0.22895199999999996): 216,\n",
       "         (0.22129830000000003,\n",
       "          0.0061230999999999985,\n",
       "          0.056738699999999996): 432,\n",
       "         (0.22129830000000003, 0.035707999999999997, 0.22129830000000003): 432,\n",
       "         (0.22129830000000003,\n",
       "          0.056738699999999996,\n",
       "          0.0061230999999999985): 432,\n",
       "         (0.22129830000000003, 0.22129830000000003, 0.035707999999999997): 432,\n",
       "         (0.22716029999999998, 0.32845140000000006, 0.91659669999999982): 216,\n",
       "         (0.22716029999999998, 0.91659669999999982, 0.32845140000000006): 216,\n",
       "         (0.22895199999999996, 0.036942800000000005, 0.22895199999999996): 216,\n",
       "         (0.22895199999999996, 0.071156999999999984, 0.65936220000000001): 216,\n",
       "         (0.22895199999999996, 0.22895199999999996, 0.036942800000000005): 216,\n",
       "         (0.22895199999999996, 0.65936220000000001, 0.071156999999999984): 216,\n",
       "         (0.32845140000000006, 0.22716029999999998, 0.91659669999999982): 216,\n",
       "         (0.32845140000000006, 0.32845140000000006, 0.89164140000000003): 216,\n",
       "         (0.32845140000000006, 0.89164140000000003, 0.32845140000000006): 216,\n",
       "         (0.32845140000000006, 0.91659669999999982, 0.22716029999999998): 216,\n",
       "         (0.65936220000000001, 0.071156999999999984, 0.22895199999999996): 216,\n",
       "         (0.65936220000000001, 0.22895199999999996, 0.071156999999999984): 216,\n",
       "         (0.82978399999999986, 0.82978399999999986, 0.89287620000000012): 72,\n",
       "         (0.82978399999999986, 0.89287620000000012, 0.82978399999999986): 72,\n",
       "         (0.89164140000000003, 0.32845140000000006, 0.32845140000000006): 216,\n",
       "         (0.89164140000000003, 0.91659669999999982, 0.91659669999999982): 216,\n",
       "         (0.89287620000000012, 0.82978399999999986, 0.82978399999999986): 72,\n",
       "         (0.89287620000000012, 0.89287620000000012, 0.89287620000000012): 72,\n",
       "         (0.91659669999999982, 0.22716029999999998, 0.32845140000000006): 216,\n",
       "         (0.91659669999999982, 0.32845140000000006, 0.22716029999999998): 216,\n",
       "         (0.91659669999999982, 0.89164140000000003, 0.91659669999999982): 216,\n",
       "         (0.91659669999999982, 0.91659669999999982, 0.89164140000000003): 216})"
      ]
     },
     "execution_count": 29,
     "metadata": {},
     "output_type": "execute_result"
    }
   ],
   "source": [
    "Counter(fids)"
   ]
  }
 ],
 "metadata": {
  "hide_input": false,
  "kernelspec": {
   "display_name": "Python 3",
   "language": "python",
   "name": "python3"
  },
  "language_info": {
   "codemirror_mode": {
    "name": "ipython",
    "version": 3
   },
   "file_extension": ".py",
   "mimetype": "text/x-python",
   "name": "python",
   "nbconvert_exporter": "python",
   "pygments_lexer": "ipython3",
   "version": "3.5.3"
  },
  "toc": {
   "colors": {
    "hover_highlight": "#DAA520",
    "running_highlight": "#FF0000",
    "selected_highlight": "#FFD700"
   },
   "moveMenuLeft": true,
   "nav_menu": {
    "height": "12px",
    "width": "252px"
   },
   "navigate_menu": true,
   "number_sections": true,
   "sideBar": true,
   "threshold": 4,
   "toc_cell": false,
   "toc_section_display": "block",
   "toc_window_display": false,
   "widenNotebook": false
  }
 },
 "nbformat": 4,
 "nbformat_minor": 2
}
